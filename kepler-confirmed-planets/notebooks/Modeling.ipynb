{
 "cells": [
  {
   "cell_type": "code",
   "execution_count": 153,
   "metadata": {},
   "outputs": [],
   "source": [
    "# Common packages\n",
    "import numpy as np\n",
    "import pandas as pd\n",
    "import requests\n",
    "import math\n",
    "from astropy.constants import sigma_sb, L_sun\n",
    "from bs4 import BeautifulSoup as BS\n",
    "import itertools\n",
    "import warnings\n",
    "warnings.filterwarnings('ignore')\n",
    "\n",
    "# Visuals\n",
    "import matplotlib.pyplot as plt\n",
    "import seaborn as sn\n",
    "from matplotlib import cm\n",
    "\n",
    "# Models\n",
    "from sklearn.model_selection import train_test_split\n",
    "from sklearn import linear_model\n",
    "from sklearn.linear_model import LogisticRegression\n",
    "from sklearn.preprocessing import StandardScaler\n",
    "from sklearn.preprocessing import PolynomialFeatures\n",
    "from sklearn.linear_model import LinearRegression\n",
    "from sklearn.model_selection import GridSearchCV, cross_val_score\n",
    "from sklearn.tree import DecisionTreeClassifier\n",
    "from sklearn.ensemble import BaggingClassifier, RandomForestClassifier, RandomForestRegressor, BaggingRegressor\n",
    "from sklearn.ensemble import AdaBoostClassifier, GradientBoostingClassifier\n",
    "from sklearn.neighbors import KNeighborsClassifier\n",
    "from xgboost import XGBClassifier\n",
    "import lightgbm as lgb\n",
    "\n",
    "# Resampling\n",
    "from imblearn.under_sampling import RandomUnderSampler\n",
    "from imblearn.over_sampling import RandomOverSampler\n",
    "import random\n",
    "\n",
    "# Metrics\n",
    "from sklearn.metrics import confusion_matrix, roc_curve, auc, f1_score, accuracy_score\n",
    "from sklearn.metrics import recall_score, precision_score, classification_report\n",
    "from sklearn import metrics\n"
   ]
  },
  {
   "cell_type": "code",
   "execution_count": 18,
   "metadata": {},
   "outputs": [],
   "source": [
    "HZ_final = pd.read_csv('HZ_final.csv')"
   ]
  },
  {
   "cell_type": "code",
   "execution_count": 19,
   "metadata": {},
   "outputs": [],
   "source": [
    "HZ_final = HZ_final.drop(columns = ['Unnamed: 0'])"
   ]
  },
  {
   "cell_type": "code",
   "execution_count": 20,
   "metadata": {},
   "outputs": [
    {
     "data": {
      "text/plain": [
       "Index(['pl_name', 'pl_orbper_yrs', 'st_mass_x', 'sy_snum', 'sy_pnum',\n",
       "       'pl_orbper', 'pl_orbsmax', 'pl_bmasse', 'pl_bmassj', 'st_teff',\n",
       "       'st_rad', 'ra', 'dec', 'sy_dist', 'spec_type', 'st_rad_m', 'st_lum',\n",
       "       'st_lum_sol', 'r_0', 'r_1', 'hab_zone'],\n",
       "      dtype='object')"
      ]
     },
     "execution_count": 20,
     "metadata": {},
     "output_type": "execute_result"
    }
   ],
   "source": [
    "HZ_final.columns"
   ]
  },
  {
   "cell_type": "code",
   "execution_count": 21,
   "metadata": {},
   "outputs": [],
   "source": [
    "features = ['pl_orbper_yrs', 'st_mass_x', 'sy_snum', 'sy_pnum',\n",
    "       'pl_orbper', 'pl_orbsmax', 'st_rad_m']"
   ]
  },
  {
   "cell_type": "code",
   "execution_count": 22,
   "metadata": {},
   "outputs": [],
   "source": [
    "target = HZ_final.hab_zone"
   ]
  },
  {
   "cell_type": "code",
   "execution_count": 25,
   "metadata": {},
   "outputs": [],
   "source": [
    "X_train, X_test, y_train, y_test = train_test_split(HZ_final[features], target, random_state=13 ,test_size=0.8)"
   ]
  },
  {
   "cell_type": "code",
   "execution_count": 24,
   "metadata": {},
   "outputs": [
    {
     "name": "stdout",
     "output_type": "stream",
     "text": [
      "Training:  0 vs. Testing:  0\n"
     ]
    }
   ],
   "source": []
  },
  {
   "cell_type": "markdown",
   "metadata": {},
   "source": [
    "# Creating Poly Features"
   ]
  },
  {
   "cell_type": "code",
   "execution_count": 31,
   "metadata": {},
   "outputs": [],
   "source": [
    "def poly_df (df, degree):\n",
    "    \n",
    "    poly = PolynomialFeatures(degree=degree, include_bias=False)\n",
    "    poly_data = poly.fit_transform(df)\n",
    "    poly_columns = poly.get_feature_names(df.columns)\n",
    "    HZ_poly = pd.DataFrame(poly_data, columns=poly_columns)\n",
    "    return HZ_poly"
   ]
  },
  {
   "cell_type": "code",
   "execution_count": 34,
   "metadata": {},
   "outputs": [],
   "source": [
    "HZ_poly  = poly_df(HZ_final[features], 2)"
   ]
  },
  {
   "cell_type": "code",
   "execution_count": 35,
   "metadata": {},
   "outputs": [],
   "source": [
    "X_train_py, X_test_py, y_train_py, y_test_py = train_test_split(HZ_poly, target, random_state=13, test_size=0.8)"
   ]
  },
  {
   "cell_type": "markdown",
   "metadata": {},
   "source": [
    "# Random Sampling"
   ]
  },
  {
   "cell_type": "markdown",
   "metadata": {},
   "source": [
    "> Boostrap method"
   ]
  },
  {
   "cell_type": "code",
   "execution_count": 44,
   "metadata": {},
   "outputs": [
    {
     "data": {
      "text/plain": [
       "0.8992515603712646"
      ]
     },
     "execution_count": 44,
     "metadata": {},
     "output_type": "execute_result"
    }
   ],
   "source": [
    "np.mean(X_train_py.pl_orbsmax)"
   ]
  },
  {
   "cell_type": "code",
   "execution_count": 40,
   "metadata": {},
   "outputs": [],
   "source": [
    "sample_mean = []\n",
    "\n",
    "for i in range(100):\n",
    "    y = random.sample(X_train_py.pl_orbsmax.to_list(), 10)\n",
    "    avg = np.mean(y)\n",
    "    sample_mean.append(avg)"
   ]
  },
  {
   "cell_type": "code",
   "execution_count": 42,
   "metadata": {},
   "outputs": [
    {
     "data": {
      "text/plain": [
       "0.7222178416589784"
      ]
     },
     "execution_count": 42,
     "metadata": {},
     "output_type": "execute_result"
    }
   ],
   "source": [
    "np.mean(sample_mean)"
   ]
  },
  {
   "cell_type": "code",
   "execution_count": 47,
   "metadata": {},
   "outputs": [],
   "source": [
    "oversample = RandomOverSampler(sampling_strategy='minority')"
   ]
  },
  {
   "cell_type": "code",
   "execution_count": 48,
   "metadata": {},
   "outputs": [],
   "source": [
    "X_over, y_over = oversample.fit_resample(X_train_py, y_train_py)"
   ]
  },
  {
   "cell_type": "code",
   "execution_count": 52,
   "metadata": {},
   "outputs": [],
   "source": [
    "undersample = RandomUnderSampler(sampling_strategy='majority')"
   ]
  },
  {
   "cell_type": "code",
   "execution_count": 53,
   "metadata": {},
   "outputs": [],
   "source": [
    "X_under, y_under = undersample.fit_resample(X_train_py, y_train_py)"
   ]
  },
  {
   "cell_type": "code",
   "execution_count": 57,
   "metadata": {},
   "outputs": [],
   "source": [
    "weighted = HZ_final.hab_zone.value_counts(normalize=True)"
   ]
  },
  {
   "cell_type": "code",
   "execution_count": 59,
   "metadata": {},
   "outputs": [],
   "source": [
    "weighted = dict(zip(weighted.index, weighted.values))"
   ]
  },
  {
   "cell_type": "code",
   "execution_count": 60,
   "metadata": {},
   "outputs": [
    {
     "data": {
      "text/plain": [
       "{0: 0.9763257575757576, 1: 0.023674242424242424}"
      ]
     },
     "execution_count": 60,
     "metadata": {},
     "output_type": "execute_result"
    }
   ],
   "source": [
    "weighted"
   ]
  },
  {
   "cell_type": "code",
   "execution_count": 101,
   "metadata": {},
   "outputs": [],
   "source": [
    "weights_r = {1: 0.9763257575757576, 0: 0.023674242424242424}"
   ]
  },
  {
   "cell_type": "code",
   "execution_count": 217,
   "metadata": {},
   "outputs": [],
   "source": [
    "scal_pos = int(weights_r[1]/weights_r[0])"
   ]
  },
  {
   "cell_type": "markdown",
   "metadata": {},
   "source": [
    "# Modeling"
   ]
  },
  {
   "cell_type": "markdown",
   "metadata": {},
   "source": [
    "> Logistic Regression"
   ]
  },
  {
   "cell_type": "code",
   "execution_count": 121,
   "metadata": {},
   "outputs": [],
   "source": [
    "def log_reg_model(X_train, y_train, X_test, y_test, weights = 'balanced'):\n",
    "    logreg = LogisticRegression(class_weight = weights)\n",
    "    logreg = logreg.fit(X_train, y_train)\n",
    "    logreg_pred = logreg.predict(X_test)\n",
    "    score = f1_score(y_test, logreg_pred, average ='binary')\n",
    "    print(\"The F1 score for this model is {}\".format(score))\n",
    "    \n",
    "    print(\"\\nClassification report :\\n\",(classification_report(y_test, logreg_pred)))\n",
    "    return(logreg_pred)"
   ]
  },
  {
   "cell_type": "code",
   "execution_count": 169,
   "metadata": {},
   "outputs": [],
   "source": [
    "# confusion matrix plotter\n",
    "def plot_confusion_matrix(\n",
    "    target,\n",
    "    pred, \n",
    "    classes,\n",
    "    normalize=False,\n",
    "    title='Confusion matrix',\n",
    "    cmap=plt.cm.Blues\n",
    "):\n",
    "    '''\n",
    "    Function that prints and plots a model's confusion matrix.\n",
    "    Input\n",
    "    -----\n",
    "    cm : sklearn confusion matrix\n",
    "        `sklearn.metrics.confusion_matrix(y_true, y_pred)`\n",
    "    classes : list (str)\n",
    "        Names of target classes.\n",
    "    Optional input\n",
    "    --------------\n",
    "    normalize : bool\n",
    "        Whether to apply normalization (default=False).\n",
    "        Normalization can be applied by setting `normalize=True`.\n",
    "    title : str\n",
    "        Title of the returned plot.\n",
    "    cmap : matplotlib color map\n",
    "        For options, visit:\n",
    "        `https://matplotlib.org/3.1.0/tutorials/colors/colormaps.html`\n",
    "    Output\n",
    "    ------\n",
    "    Prints a stylized confusion matrix.\n",
    "    '''\n",
    "    # convert to percentage, if normalize set to True\n",
    "    if normalize:\n",
    "        cm = cm.astype('float') / cm.sum(axis=1)[:, np.newaxis]\n",
    "    cm = confusion_matrix(target, pred)\n",
    "    # plot\n",
    "    plt.figure(figsize=(8, 6))\n",
    "    plt.imshow(cm, interpolation='nearest', cmap=cmap)\n",
    "    plt.title(title)\n",
    "    plt.colorbar()\n",
    "    tick_marks = np.arange(len(classes))\n",
    "    plt.xticks(tick_marks, classes, rotation=45)\n",
    "    plt.yticks(tick_marks, classes)\n",
    "    # format true positives and others\n",
    "    fmt = '.2f' if normalize else 'd'\n",
    "    thresh = cm.max() / 2.\n",
    "    for i, j in itertools.product(range(cm.shape[0]), range(cm.shape[1])):\n",
    "        plt.text(j, i, format(cm[i, j], fmt), fontsize=16,\n",
    "                 horizontalalignment=\"center\", verticalalignment=\"center\",\n",
    "                 color=\"orange\" if cm[i, j] > thresh else \"black\")\n",
    "    # add axes labels\n",
    "    plt.ylabel('True label')\n",
    "    plt.xlabel('Predicted label')"
   ]
  },
  {
   "cell_type": "code",
   "execution_count": 123,
   "metadata": {},
   "outputs": [
    {
     "name": "stdout",
     "output_type": "stream",
     "text": [
      "The F1 score for this model is 0.0\n",
      "\n",
      "Classification report :\n",
      "               precision    recall  f1-score   support\n",
      "\n",
      "           0       0.98      1.00      0.99      3305\n",
      "           1       0.00      0.00      0.00        75\n",
      "\n",
      "    accuracy                           0.98      3380\n",
      "   macro avg       0.49      0.50      0.49      3380\n",
      "weighted avg       0.96      0.98      0.97      3380\n",
      "\n"
     ]
    },
    {
     "data": {
      "image/png": "[encoded data removed]",
      "text/plain": [
       "<Figure size 576x432 with 2 Axes>"
      ]
     },
     "metadata": {
      "needs_background": "light"
     },
     "output_type": "display_data"
    }
   ],
   "source": [
    "plot_confusion_matrix(\n",
    "    y_test,\n",
    "    pred = log_reg_model(X_train, y_train, X_test, y_test),\n",
    "    classes = ['Non Habitable', 'Habitable'], # put your list here\n",
    "    normalize=False,\n",
    "    title='Confusion matrix',\n",
    "    cmap=plt.cm.Blues\n",
    ")"
   ]
  },
  {
   "cell_type": "code",
   "execution_count": 125,
   "metadata": {},
   "outputs": [
    {
     "name": "stdout",
     "output_type": "stream",
     "text": [
      "The F1 score for this model is 0.0\n",
      "\n",
      "Classification report :\n",
      "               precision    recall  f1-score   support\n",
      "\n",
      "           0       0.98      1.00      0.99      3305\n",
      "           1       0.00      0.00      0.00        75\n",
      "\n",
      "    accuracy                           0.98      3380\n",
      "   macro avg       0.49      0.50      0.49      3380\n",
      "weighted avg       0.96      0.98      0.97      3380\n",
      "\n"
     ]
    },
    {
     "data": {
      "image/png": "[encoded data removed]",
      "text/plain": [
       "<Figure size 576x432 with 2 Axes>"
      ]
     },
     "metadata": {
      "needs_background": "light"
     },
     "output_type": "display_data"
    }
   ],
   "source": [
    "plot_confusion_matrix(\n",
    "    y_test,\n",
    "    pred = log_reg_model(X_train, y_train, X_test, y_test, weights=weights_r),\n",
    "    classes = ['Non Habitable', 'Habitable'], # put your list here\n",
    "    normalize=False,\n",
    "    title='Confusion matrix',\n",
    "    cmap=plt.cm.Blues\n",
    ")"
   ]
  },
  {
   "cell_type": "code",
   "execution_count": 126,
   "metadata": {},
   "outputs": [
    {
     "name": "stdout",
     "output_type": "stream",
     "text": [
      "The F1 score for this model is 0.0\n",
      "\n",
      "Classification report :\n",
      "               precision    recall  f1-score   support\n",
      "\n",
      "           0       0.98      1.00      0.99      3305\n",
      "           1       0.00      0.00      0.00        75\n",
      "\n",
      "    accuracy                           0.98      3380\n",
      "   macro avg       0.49      0.50      0.49      3380\n",
      "weighted avg       0.96      0.98      0.97      3380\n",
      "\n"
     ]
    },
    {
     "data": {
      "image/png": "[encoded data removed]",
      "text/plain": [
       "<Figure size 576x432 with 2 Axes>"
      ]
     },
     "metadata": {
      "needs_background": "light"
     },
     "output_type": "display_data"
    }
   ],
   "source": [
    "plot_confusion_matrix(\n",
    "    y_test,\n",
    "    pred = log_reg_model(X_train_py, y_train, X_test_py, y_test, weights=weights_r),\n",
    "    classes = ['Non Habitable', 'Habitable'], # put your list here\n",
    "    normalize=False,\n",
    "    title='Confusion matrix',\n",
    "    cmap=plt.cm.Blues\n",
    ")"
   ]
  },
  {
   "cell_type": "code",
   "execution_count": 127,
   "metadata": {},
   "outputs": [
    {
     "name": "stdout",
     "output_type": "stream",
     "text": [
      "The F1 score for this model is 0.0\n",
      "\n",
      "Classification report :\n",
      "               precision    recall  f1-score   support\n",
      "\n",
      "           0       0.98      1.00      0.99      3305\n",
      "           1       0.00      0.00      0.00        75\n",
      "\n",
      "    accuracy                           0.98      3380\n",
      "   macro avg       0.49      0.50      0.49      3380\n",
      "weighted avg       0.96      0.98      0.97      3380\n",
      "\n"
     ]
    },
    {
     "data": {
      "image/png": "[encoded data removed]",
      "text/plain": [
       "<Figure size 576x432 with 2 Axes>"
      ]
     },
     "metadata": {
      "needs_background": "light"
     },
     "output_type": "display_data"
    }
   ],
   "source": [
    "plot_confusion_matrix(\n",
    "    y_test,\n",
    "    pred = log_reg_model(X_under, y_under, X_test_py, y_test, weights=weights_r),\n",
    "    classes = ['Non Habitable', 'Habitable'], # put your list here\n",
    "    normalize=False,\n",
    "    title='Confusion matrix',\n",
    "    cmap=plt.cm.Blues\n",
    ")"
   ]
  },
  {
   "cell_type": "markdown",
   "metadata": {},
   "source": [
    "> Radnom Forest"
   ]
  },
  {
   "cell_type": "code",
   "execution_count": 132,
   "metadata": {},
   "outputs": [],
   "source": [
    "def randomforest(X_train, y_train, X_test, y_test, est, depth, weights = 'balanced'):\n",
    "    randfor = RandomForestClassifier(n_estimators = est, max_depth = depth, class_weight = weights, random_state = 13)\n",
    "    randfor = randfor.fit(X_train, y_train)\n",
    "    random_pred = randfor.predict(X_test)\n",
    "    score = f1_score(y_test, random_pred)\n",
    "    print(\"The F1 score for this model is {}\".format(score))\n",
    "    print (\"\\nClassification report Random Forest Classifier:\\n\",(classification_report(y_test, random_pred)))\n",
    "    \n",
    "    return(random_pred)"
   ]
  },
  {
   "cell_type": "code",
   "execution_count": 133,
   "metadata": {},
   "outputs": [
    {
     "name": "stdout",
     "output_type": "stream",
     "text": [
      "The F1 score for this model is 0.3711340206185567\n",
      "\n",
      "Classification report Random Forest Classifier:\n",
      "               precision    recall  f1-score   support\n",
      "\n",
      "           0       0.99      0.95      0.97      3305\n",
      "           1       0.25      0.72      0.37        75\n",
      "\n",
      "    accuracy                           0.95      3380\n",
      "   macro avg       0.62      0.84      0.67      3380\n",
      "weighted avg       0.98      0.95      0.96      3380\n",
      "\n"
     ]
    },
    {
     "data": {
      "image/png": "[encoded data removed]",
      "text/plain": [
       "<Figure size 576x432 with 2 Axes>"
      ]
     },
     "metadata": {
      "needs_background": "light"
     },
     "output_type": "display_data"
    }
   ],
   "source": [
    "plot_confusion_matrix(\n",
    "    y_test,\n",
    "    pred = randomforest(X_train, y_train, X_test, y_test, 20, 5),\n",
    "    classes = ['Non Habitable', 'Habitable'], # put your list here\n",
    "    normalize=False,\n",
    "    title='Confusion matrix',\n",
    "    cmap=plt.cm.Blues\n",
    ")"
   ]
  },
  {
   "cell_type": "code",
   "execution_count": 141,
   "metadata": {},
   "outputs": [
    {
     "name": "stdout",
     "output_type": "stream",
     "text": [
      "The F1 score for this model is 0.3917525773195877\n",
      "\n",
      "Classification report Random Forest Classifier:\n",
      "               precision    recall  f1-score   support\n",
      "\n",
      "           0       0.99      0.95      0.97      3305\n",
      "           1       0.26      0.76      0.39        75\n",
      "\n",
      "    accuracy                           0.95      3380\n",
      "   macro avg       0.63      0.86      0.68      3380\n",
      "weighted avg       0.98      0.95      0.96      3380\n",
      "\n"
     ]
    },
    {
     "data": {
      "image/png": "[encoded data removed]",
      "text/plain": [
       "<Figure size 576x432 with 2 Axes>"
      ]
     },
     "metadata": {
      "needs_background": "light"
     },
     "output_type": "display_data"
    }
   ],
   "source": [
    "plot_confusion_matrix(\n",
    "    y_test,\n",
    "    pred = randomforest(X_train, y_train, X_test, y_test, 20, 5, weights_r),\n",
    "    classes = ['Non Habitable', 'Habitable'], # put your list here\n",
    "    normalize=False,\n",
    "    title='Confusion matrix',\n",
    "    cmap=plt.cm.Blues\n",
    ")"
   ]
  },
  {
   "cell_type": "code",
   "execution_count": 148,
   "metadata": {},
   "outputs": [
    {
     "name": "stdout",
     "output_type": "stream",
     "text": [
      "The F1 score for this model is 0.30388692579505294\n",
      "\n",
      "Classification report Random Forest Classifier:\n",
      "               precision    recall  f1-score   support\n",
      "\n",
      "           0       0.99      0.95      0.97      3305\n",
      "           1       0.21      0.57      0.30        75\n",
      "\n",
      "    accuracy                           0.94      3380\n",
      "   macro avg       0.60      0.76      0.64      3380\n",
      "weighted avg       0.97      0.94      0.95      3380\n",
      "\n"
     ]
    },
    {
     "data": {
      "image/png": "[encoded data removed]",
      "text/plain": [
       "<Figure size 576x432 with 2 Axes>"
      ]
     },
     "metadata": {
      "needs_background": "light"
     },
     "output_type": "display_data"
    }
   ],
   "source": [
    "plot_confusion_matrix(\n",
    "    y_test,\n",
    "    pred = randomforest(X_train_py, y_train_py, X_test_py, y_test, 20, 5, weights_r),\n",
    "    classes = ['Non Habitable', 'Habitable'], # put your list here\n",
    "    normalize=False,\n",
    "    title='Confusion matrix',\n",
    "    cmap=plt.cm.Blues\n",
    ")"
   ]
  },
  {
   "cell_type": "markdown",
   "metadata": {},
   "source": [
    "> XGboost"
   ]
  },
  {
   "cell_type": "code",
   "execution_count": 146,
   "metadata": {},
   "outputs": [],
   "source": [
    "def xgboost(X_train, y_train, X_test, y_test, est, depth ):\n",
    "    xgb = XGBClassifier(n_estimators = est, max_depth = depth)\n",
    "    xgb.fit(X_train, y_train)\n",
    "    xgb_preds = xgb.predict(X_test)\n",
    "    score = f1_score(y_test, xgb_preds)\n",
    "    print(\"The F1 score for this model is {}\".format(score))\n",
    "    print (\"\\nClassification report Random Forest Classifier:\\n\",(classification_report(y_test, xgb_preds)))\n",
    "    return(xgb_preds)\n",
    "    "
   ]
  },
  {
   "cell_type": "code",
   "execution_count": 147,
   "metadata": {},
   "outputs": [
    {
     "name": "stdout",
     "output_type": "stream",
     "text": [
      "[14:22:21] WARNING: /Users/travis/build/dmlc/xgboost/src/learner.cc:1061: Starting in XGBoost 1.3.0, the default evaluation metric used with the objective 'binary:logistic' was changed from 'error' to 'logloss'. Explicitly set eval_metric if you'd like to restore the old behavior.\n",
      "The F1 score for this model is 0.26\n",
      "\n",
      "Classification report Random Forest Classifier:\n",
      "               precision    recall  f1-score   support\n",
      "\n",
      "           0       0.98      1.00      0.99      3305\n",
      "           1       0.52      0.17      0.26        75\n",
      "\n",
      "    accuracy                           0.98      3380\n",
      "   macro avg       0.75      0.58      0.62      3380\n",
      "weighted avg       0.97      0.98      0.97      3380\n",
      "\n"
     ]
    },
    {
     "data": {
      "image/png": "[encoded data removed]",
      "text/plain": [
       "<Figure size 576x432 with 2 Axes>"
      ]
     },
     "metadata": {
      "needs_background": "light"
     },
     "output_type": "display_data"
    }
   ],
   "source": [
    "plot_confusion_matrix(\n",
    "    y_test,\n",
    "    pred = xgboost(X_train, y_train, X_test, y_test, 20, 5),\n",
    "    classes = ['Non Habitable', 'Habitable'], # put your list here\n",
    "    normalize=False,\n",
    "    title='Confusion matrix',\n",
    "    cmap=plt.cm.Blues\n",
    ")"
   ]
  },
  {
   "cell_type": "code",
   "execution_count": 151,
   "metadata": {},
   "outputs": [
    {
     "name": "stdout",
     "output_type": "stream",
     "text": [
      "[14:24:09] WARNING: /Users/travis/build/dmlc/xgboost/src/learner.cc:1061: Starting in XGBoost 1.3.0, the default evaluation metric used with the objective 'binary:logistic' was changed from 'error' to 'logloss'. Explicitly set eval_metric if you'd like to restore the old behavior.\n",
      "The F1 score for this model is 0.13084112149532712\n",
      "\n",
      "Classification report Random Forest Classifier:\n",
      "               precision    recall  f1-score   support\n",
      "\n",
      "           0       0.98      0.99      0.99      3305\n",
      "           1       0.22      0.09      0.13        75\n",
      "\n",
      "    accuracy                           0.97      3380\n",
      "   macro avg       0.60      0.54      0.56      3380\n",
      "weighted avg       0.96      0.97      0.97      3380\n",
      "\n"
     ]
    },
    {
     "data": {
      "image/png": "[encoded data removed]",
      "text/plain": [
       "<Figure size 576x432 with 2 Axes>"
      ]
     },
     "metadata": {
      "needs_background": "light"
     },
     "output_type": "display_data"
    }
   ],
   "source": [
    "plot_confusion_matrix(\n",
    "    y_test,\n",
    "    pred = xgboost(X_train_py, y_train, X_test_py, y_test, 20, 5),\n",
    "    classes = ['Non Habitable', 'Habitable'], # put your list here\n",
    "    normalize=False,\n",
    "    title='Confusion matrix',\n",
    "    cmap=plt.cm.Blues\n",
    ")"
   ]
  },
  {
   "cell_type": "markdown",
   "metadata": {},
   "source": [
    "> Light Gradient Boost"
   ]
  },
  {
   "cell_type": "code",
   "execution_count": 202,
   "metadata": {},
   "outputs": [],
   "source": [
    "def lightgb(X_train, y_train, X_test, y_test, weight = None):\n",
    "    lgbm = lgb.LGBMClassifier(boosting_type='gbdt', \n",
    "                             num_leaves = 31, \n",
    "                             max_depth = 7, \n",
    "                             learning_rate = 0.5, \n",
    "                             class_weight = weight, \n",
    "                             random_state = 13,\n",
    "                             n_jobs = -1)\n",
    "    lgbm = lgbm.fit(X_train, y_train)\n",
    "    lgb_pred = lgbm.predict(X_test)\n",
    "    score = f1_score(y_test, lgb_pred)\n",
    "    print(\"The F1 score for this model is {}\".format(score))\n",
    "    print (\"\\nClassification report Random Forest Classifier:\\n\",(classification_report(y_test, lgb_pred)))\n",
    "    return(lgb_pred)"
   ]
  },
  {
   "cell_type": "code",
   "execution_count": 203,
   "metadata": {},
   "outputs": [
    {
     "name": "stdout",
     "output_type": "stream",
     "text": [
      "The F1 score for this model is 0.26548672566371684\n",
      "\n",
      "Classification report Random Forest Classifier:\n",
      "               precision    recall  f1-score   support\n",
      "\n",
      "           0       0.98      0.99      0.99      3305\n",
      "           1       0.39      0.20      0.27        75\n",
      "\n",
      "    accuracy                           0.98      3380\n",
      "   macro avg       0.69      0.60      0.63      3380\n",
      "weighted avg       0.97      0.98      0.97      3380\n",
      "\n"
     ]
    },
    {
     "data": {
      "image/png": "[encoded data removed]",
      "text/plain": [
       "<Figure size 576x432 with 2 Axes>"
      ]
     },
     "metadata": {
      "needs_background": "light"
     },
     "output_type": "display_data"
    }
   ],
   "source": [
    "plot_confusion_matrix(\n",
    "    y_test,\n",
    "    pred = lightgb(X_train, y_train, X_test, y_test),\n",
    "    classes = ['Non Habitable', 'Habitable'], # put your list here\n",
    "    normalize=False,\n",
    "    title='Confusion matrix',\n",
    "    cmap=plt.cm.Blues\n",
    ")"
   ]
  },
  {
   "cell_type": "markdown",
   "metadata": {},
   "source": [
    "# Search best parameters:"
   ]
  },
  {
   "cell_type": "markdown",
   "metadata": {},
   "source": [
    "> Grid Search with random forest"
   ]
  },
  {
   "cell_type": "code",
   "execution_count": 229,
   "metadata": {},
   "outputs": [
    {
     "data": {
      "text/plain": [
       "{1: 0.9763257575757576, 0: 0.023674242424242424}"
      ]
     },
     "execution_count": 229,
     "metadata": {},
     "output_type": "execute_result"
    }
   ],
   "source": [
    "weights_r"
   ]
  },
  {
   "cell_type": "code",
   "execution_count": 234,
   "metadata": {},
   "outputs": [],
   "source": [
    "rf_grid_search = {\n",
    "    'criterion': ['gini', 'entropy'],\n",
    "    'max_depth': [None, 2, 3, 4, 5, 6, 7, 8, 9, 10],\n",
    "    'max_features': [1, 2, 3, 4, 5 , 6, 7],\n",
    "    'min_samples_leaf': [1, 2, 3, 4, 5, 6, 7],\n",
    "    'min_samples_split': [2, 4, 6, 8, 10],\n",
    "    'n_estimators': [100, 150, 200, 250],\n",
    "    'class_weight': [{1: 10, 0: 1}, {1: 20, 0: 1}, {1: 30, 0: 1}, {1: 40, 0: 1}]\n",
    "}"
   ]
  },
  {
   "cell_type": "code",
   "execution_count": 235,
   "metadata": {},
   "outputs": [],
   "source": [
    "rf = RandomForestClassifier()\n",
    "\n",
    "\n",
    "grid_search = GridSearchCV(estimator = rf, param_grid = rf_grid_search, cv = 3, n_jobs = -1, verbose = 2)"
   ]
  },
  {
   "cell_type": "code",
   "execution_count": 236,
   "metadata": {},
   "outputs": [
    {
     "name": "stdout",
     "output_type": "stream",
     "text": [
      "Fitting 3 folds for each of 129360 candidates, totalling 388080 fits\n"
     ]
    },
    {
     "name": "stderr",
     "output_type": "stream",
     "text": [
      "[Parallel(n_jobs=-1)]: Using backend LokyBackend with 12 concurrent workers.\n",
      "[Parallel(n_jobs=-1)]: Done  17 tasks      | elapsed:    5.1s\n",
      "[Parallel(n_jobs=-1)]: Done 138 tasks      | elapsed:   12.2s\n",
      "[Parallel(n_jobs=-1)]: Done 341 tasks      | elapsed:   21.8s\n",
      "[Parallel(n_jobs=-1)]: Done 624 tasks      | elapsed:   34.7s\n",
      "[Parallel(n_jobs=-1)]: Done 989 tasks      | elapsed:   52.6s\n",
      "[Parallel(n_jobs=-1)]: Done 1434 tasks      | elapsed:  1.3min\n",
      "[Parallel(n_jobs=-1)]: Done 1961 tasks      | elapsed:  2.0min\n",
      "[Parallel(n_jobs=-1)]: Done 2568 tasks      | elapsed:  2.6min\n",
      "[Parallel(n_jobs=-1)]: Done 3257 tasks      | elapsed:  3.3min\n",
      "[Parallel(n_jobs=-1)]: Done 4026 tasks      | elapsed:  4.3min\n",
      "[Parallel(n_jobs=-1)]: Done 4877 tasks      | elapsed:  5.2min\n",
      "[Parallel(n_jobs=-1)]: Done 5808 tasks      | elapsed:  6.1min\n",
      "[Parallel(n_jobs=-1)]: Done 6821 tasks      | elapsed:  7.2min\n",
      "[Parallel(n_jobs=-1)]: Done 7914 tasks      | elapsed:  8.3min\n",
      "[Parallel(n_jobs=-1)]: Done 9089 tasks      | elapsed:  9.5min\n",
      "[Parallel(n_jobs=-1)]: Done 10344 tasks      | elapsed: 11.0min\n",
      "[Parallel(n_jobs=-1)]: Done 11681 tasks      | elapsed: 12.5min\n",
      "[Parallel(n_jobs=-1)]: Done 13098 tasks      | elapsed: 14.1min\n",
      "[Parallel(n_jobs=-1)]: Done 14597 tasks      | elapsed: 15.7min\n",
      "[Parallel(n_jobs=-1)]: Done 16176 tasks      | elapsed: 17.7min\n",
      "[Parallel(n_jobs=-1)]: Done 17837 tasks      | elapsed: 19.2min\n",
      "[Parallel(n_jobs=-1)]: Done 19578 tasks      | elapsed: 21.0min\n",
      "[Parallel(n_jobs=-1)]: Done 21401 tasks      | elapsed: 22.6min\n",
      "[Parallel(n_jobs=-1)]: Done 23304 tasks      | elapsed: 24.1min\n",
      "[Parallel(n_jobs=-1)]: Done 25289 tasks      | elapsed: 26.0min\n",
      "[Parallel(n_jobs=-1)]: Done 27354 tasks      | elapsed: 28.0min\n",
      "[Parallel(n_jobs=-1)]: Done 29501 tasks      | elapsed: 30.3min\n",
      "[Parallel(n_jobs=-1)]: Done 31728 tasks      | elapsed: 32.1min\n",
      "[Parallel(n_jobs=-1)]: Done 34037 tasks      | elapsed: 33.9min\n",
      "[Parallel(n_jobs=-1)]: Done 36426 tasks      | elapsed: 35.9min\n",
      "[Parallel(n_jobs=-1)]: Done 38897 tasks      | elapsed: 38.1min\n",
      "[Parallel(n_jobs=-1)]: Done 41448 tasks      | elapsed: 40.3min\n",
      "[Parallel(n_jobs=-1)]: Done 44081 tasks      | elapsed: 43.0min\n",
      "[Parallel(n_jobs=-1)]: Done 46794 tasks      | elapsed: 45.5min\n",
      "[Parallel(n_jobs=-1)]: Done 49589 tasks      | elapsed: 48.8min\n",
      "[Parallel(n_jobs=-1)]: Done 52464 tasks      | elapsed: 51.7min\n",
      "[Parallel(n_jobs=-1)]: Done 55421 tasks      | elapsed: 54.3min\n",
      "[Parallel(n_jobs=-1)]: Done 58458 tasks      | elapsed: 56.9min\n",
      "[Parallel(n_jobs=-1)]: Done 61577 tasks      | elapsed: 59.8min\n",
      "[Parallel(n_jobs=-1)]: Done 64776 tasks      | elapsed: 62.6min\n",
      "[Parallel(n_jobs=-1)]: Done 68057 tasks      | elapsed: 65.9min\n",
      "[Parallel(n_jobs=-1)]: Done 71418 tasks      | elapsed: 69.4min\n",
      "[Parallel(n_jobs=-1)]: Done 74861 tasks      | elapsed: 73.4min\n",
      "[Parallel(n_jobs=-1)]: Done 78384 tasks      | elapsed: 77.3min\n",
      "[Parallel(n_jobs=-1)]: Done 81989 tasks      | elapsed: 81.4min\n",
      "[Parallel(n_jobs=-1)]: Done 85674 tasks      | elapsed: 86.5min\n",
      "[Parallel(n_jobs=-1)]: Done 89441 tasks      | elapsed: 91.2min\n",
      "[Parallel(n_jobs=-1)]: Done 93288 tasks      | elapsed: 96.1min\n",
      "[Parallel(n_jobs=-1)]: Done 97217 tasks      | elapsed: 100.9min\n",
      "[Parallel(n_jobs=-1)]: Done 101226 tasks      | elapsed: 105.7min\n",
      "[Parallel(n_jobs=-1)]: Done 105317 tasks      | elapsed: 109.9min\n",
      "[Parallel(n_jobs=-1)]: Done 109488 tasks      | elapsed: 113.5min\n",
      "[Parallel(n_jobs=-1)]: Done 113741 tasks      | elapsed: 116.9min\n",
      "[Parallel(n_jobs=-1)]: Done 118074 tasks      | elapsed: 120.2min\n",
      "[Parallel(n_jobs=-1)]: Done 122489 tasks      | elapsed: 123.7min\n",
      "[Parallel(n_jobs=-1)]: Done 126984 tasks      | elapsed: 127.2min\n",
      "[Parallel(n_jobs=-1)]: Done 131561 tasks      | elapsed: 130.8min\n",
      "[Parallel(n_jobs=-1)]: Done 136218 tasks      | elapsed: 134.5min\n",
      "[Parallel(n_jobs=-1)]: Done 140957 tasks      | elapsed: 138.1min\n",
      "[Parallel(n_jobs=-1)]: Done 145776 tasks      | elapsed: 141.9min\n",
      "[Parallel(n_jobs=-1)]: Done 150677 tasks      | elapsed: 145.8min\n",
      "[Parallel(n_jobs=-1)]: Done 155658 tasks      | elapsed: 149.5min\n",
      "[Parallel(n_jobs=-1)]: Done 160721 tasks      | elapsed: 153.4min\n",
      "[Parallel(n_jobs=-1)]: Done 165864 tasks      | elapsed: 157.5min\n",
      "[Parallel(n_jobs=-1)]: Done 171089 tasks      | elapsed: 161.7min\n",
      "[Parallel(n_jobs=-1)]: Done 176394 tasks      | elapsed: 166.1min\n",
      "[Parallel(n_jobs=-1)]: Done 181781 tasks      | elapsed: 170.4min\n",
      "[Parallel(n_jobs=-1)]: Done 187248 tasks      | elapsed: 174.8min\n",
      "[Parallel(n_jobs=-1)]: Done 192797 tasks      | elapsed: 179.3min\n",
      "[Parallel(n_jobs=-1)]: Done 198426 tasks      | elapsed: 183.8min\n",
      "[Parallel(n_jobs=-1)]: Done 204137 tasks      | elapsed: 188.0min\n",
      "[Parallel(n_jobs=-1)]: Done 209928 tasks      | elapsed: 192.4min\n",
      "[Parallel(n_jobs=-1)]: Done 215801 tasks      | elapsed: 196.9min\n",
      "[Parallel(n_jobs=-1)]: Done 221754 tasks      | elapsed: 201.5min\n",
      "[Parallel(n_jobs=-1)]: Done 227789 tasks      | elapsed: 206.2min\n",
      "[Parallel(n_jobs=-1)]: Done 233904 tasks      | elapsed: 211.0min\n",
      "[Parallel(n_jobs=-1)]: Done 240101 tasks      | elapsed: 215.8min\n",
      "[Parallel(n_jobs=-1)]: Done 246378 tasks      | elapsed: 220.9min\n",
      "[Parallel(n_jobs=-1)]: Done 252737 tasks      | elapsed: 225.7min\n",
      "[Parallel(n_jobs=-1)]: Done 259176 tasks      | elapsed: 231.7min\n",
      "[Parallel(n_jobs=-1)]: Done 265697 tasks      | elapsed: 238.7min\n",
      "[Parallel(n_jobs=-1)]: Done 272298 tasks      | elapsed: 246.0min\n",
      "[Parallel(n_jobs=-1)]: Done 278981 tasks      | elapsed: 252.5min\n",
      "[Parallel(n_jobs=-1)]: Done 285744 tasks      | elapsed: 258.0min\n",
      "[Parallel(n_jobs=-1)]: Done 292589 tasks      | elapsed: 263.9min\n",
      "[Parallel(n_jobs=-1)]: Done 299514 tasks      | elapsed: 270.8min\n",
      "[Parallel(n_jobs=-1)]: Done 306521 tasks      | elapsed: 278.1min\n",
      "[Parallel(n_jobs=-1)]: Done 313608 tasks      | elapsed: 284.9min\n",
      "[Parallel(n_jobs=-1)]: Done 320777 tasks      | elapsed: 290.5min\n",
      "[Parallel(n_jobs=-1)]: Done 328026 tasks      | elapsed: 296.8min\n",
      "[Parallel(n_jobs=-1)]: Done 335357 tasks      | elapsed: 304.5min\n",
      "[Parallel(n_jobs=-1)]: Done 342768 tasks      | elapsed: 312.7min\n",
      "[Parallel(n_jobs=-1)]: Done 350261 tasks      | elapsed: 319.9min\n",
      "[Parallel(n_jobs=-1)]: Done 357834 tasks      | elapsed: 326.2min\n",
      "[Parallel(n_jobs=-1)]: Done 365489 tasks      | elapsed: 332.9min\n",
      "[Parallel(n_jobs=-1)]: Done 373224 tasks      | elapsed: 341.2min\n",
      "[Parallel(n_jobs=-1)]: Done 381041 tasks      | elapsed: 350.2min\n",
      "[Parallel(n_jobs=-1)]: Done 388080 out of 388080 | elapsed: 357.1min finished\n"
     ]
    },
    {
     "data": {
      "text/plain": [
       "GridSearchCV(cv=3, estimator=RandomForestClassifier(), n_jobs=-1,\n",
       "             param_grid={'class_weight': [{0: 1, 1: 10}, {0: 1, 1: 20},\n",
       "                                          {0: 1, 1: 30}, {0: 1, 1: 40}],\n",
       "                         'criterion': ['gini', 'entropy'],\n",
       "                         'max_depth': [None, 1, 2, 3, 4, 5, 6, 7, 8, 9, 10],\n",
       "                         'max_features': [1, 2, 3, 4, 5, 6, 7],\n",
       "                         'min_samples_leaf': [1, 2, 3, 4, 5, 6, 7],\n",
       "                         'min_samples_split': [2, 4, 6, 8, 10],\n",
       "                         'n_estimators': [50, 100, 150, 200, 250, 300]},\n",
       "             verbose=2)"
      ]
     },
     "execution_count": 236,
     "metadata": {},
     "output_type": "execute_result"
    }
   ],
   "source": [
    "grid_search.fit(X_train, y_train)"
   ]
  },
  {
   "cell_type": "code",
   "execution_count": 237,
   "metadata": {},
   "outputs": [
    {
     "data": {
      "text/plain": [
       "{'class_weight': {1: 10, 0: 1},\n",
       " 'criterion': 'gini',\n",
       " 'max_depth': 1,\n",
       " 'max_features': 1,\n",
       " 'min_samples_leaf': 1,\n",
       " 'min_samples_split': 2,\n",
       " 'n_estimators': 50}"
      ]
     },
     "execution_count": 237,
     "metadata": {},
     "output_type": "execute_result"
    }
   ],
   "source": [
    "grid_search.best_params_"
   ]
  },
  {
   "cell_type": "code",
   "execution_count": 180,
   "metadata": {},
   "outputs": [],
   "source": [
    "def randomforestbest(X_train, y_train, X_test, y_test, citerion, est, depth, maxf, minleaf, minsplit,  weights = 'balanced'):\n",
    "    randfor = RandomForestClassifier(criterion = citerion ,\n",
    "                                     n_estimators = est, \n",
    "                                     max_depth = depth, \n",
    "                                     max_features = maxf,\n",
    "                                     min_samples_leaf = minleaf,\n",
    "                                     min_samples_split = minsplit, \n",
    "                                     class_weight = weights, \n",
    "                                     random_state = 13)\n",
    "    randfor = randfor.fit(X_train, y_train)\n",
    "    random_pred = randfor.predict(X_test)\n",
    "    score = f1_score(y_test, random_pred)\n",
    "    print(\"The F1 score for this model is {}\".format(score))\n",
    "    print (\"\\nClassification report Random Forest Classifier:\\n\",(classification_report(y_test, random_pred)))\n",
    "    \n",
    "    return(random_pred)"
   ]
  },
  {
   "cell_type": "code",
   "execution_count": 239,
   "metadata": {},
   "outputs": [
    {
     "name": "stdout",
     "output_type": "stream",
     "text": [
      "The F1 score for this model is 0.0\n",
      "\n",
      "Classification report Random Forest Classifier:\n",
      "               precision    recall  f1-score   support\n",
      "\n",
      "           0       0.98      1.00      0.99      3305\n",
      "           1       0.00      0.00      0.00        75\n",
      "\n",
      "    accuracy                           0.98      3380\n",
      "   macro avg       0.49      0.50      0.49      3380\n",
      "weighted avg       0.96      0.98      0.97      3380\n",
      "\n"
     ]
    },
    {
     "data": {
      "image/png": "[encoded data removed]",
      "text/plain": [
       "<Figure size 576x432 with 2 Axes>"
      ]
     },
     "metadata": {
      "needs_background": "light"
     },
     "output_type": "display_data"
    }
   ],
   "source": [
    "plot_confusion_matrix(\n",
    "    y_test,\n",
    "    pred = randomforestbest(X_train, y_train, X_test, y_test, 'gini', 50, 1, 1, 1, 2, {1: 10, 0: 1}),\n",
    "    classes = ['Non Habitable', 'Habitable'], # put your list here\n",
    "    normalize=False,\n",
    "    title='Confusion matrix',\n",
    "    cmap=plt.cm.Blues\n",
    ")"
   ]
  },
  {
   "cell_type": "markdown",
   "metadata": {},
   "source": [
    "> Xgboost"
   ]
  },
  {
   "cell_type": "code",
   "execution_count": 265,
   "metadata": {},
   "outputs": [],
   "source": [
    "xgb_params = { 'nthread': [3, 4, 5],\n",
    "              'objective': ['binary:logistic'],\n",
    "              'learning_rate': [5, 10],\n",
    "              'max_depth': [9, 10, 11],\n",
    "              'reg_alpha': [1.09, 1.1, 1.11],\n",
    "              'reg_lambda': [1.19, 1.2, 1.25],\n",
    "              'subsample': [0.81, 0.83, 0.89],\n",
    "              'n_estimators': [180, 200, 220],\n",
    "              'scale_pos_weight': [5, 8, 10]\n",
    "}"
   ]
  },
  {
   "cell_type": "code",
   "execution_count": 266,
   "metadata": {},
   "outputs": [],
   "source": [
    "xgb = XGBClassifier()"
   ]
  },
  {
   "cell_type": "code",
   "execution_count": 267,
   "metadata": {},
   "outputs": [],
   "source": [
    "xgb_grd_search = GridSearchCV(estimator = xgb, param_grid = xgb_params, cv = 3, n_jobs = -1, verbose =2)"
   ]
  },
  {
   "cell_type": "code",
   "execution_count": null,
   "metadata": {},
   "outputs": [
    {
     "name": "stdout",
     "output_type": "stream",
     "text": [
      "Fitting 3 folds for each of 4374 candidates, totalling 13122 fits\n"
     ]
    },
    {
     "name": "stderr",
     "output_type": "stream",
     "text": [
      "[Parallel(n_jobs=-1)]: Using backend LokyBackend with 12 concurrent workers.\n",
      "[Parallel(n_jobs=-1)]: Done  17 tasks      | elapsed:    4.1s\n",
      "[Parallel(n_jobs=-1)]: Done 138 tasks      | elapsed:    5.8s\n",
      "[Parallel(n_jobs=-1)]: Done 341 tasks      | elapsed:    9.9s\n",
      "[Parallel(n_jobs=-1)]: Done 624 tasks      | elapsed:   16.9s\n",
      "[Parallel(n_jobs=-1)]: Done 989 tasks      | elapsed:   25.4s\n",
      "[Parallel(n_jobs=-1)]: Done 1434 tasks      | elapsed:   38.2s\n",
      "[Parallel(n_jobs=-1)]: Done 1961 tasks      | elapsed:   52.4s\n",
      "[Parallel(n_jobs=-1)]: Done 2568 tasks      | elapsed:  1.2min\n",
      "[Parallel(n_jobs=-1)]: Done 3257 tasks      | elapsed:  1.5min\n",
      "[Parallel(n_jobs=-1)]: Done 4026 tasks      | elapsed:  2.1min\n",
      "[Parallel(n_jobs=-1)]: Done 4877 tasks      | elapsed:  2.6min\n",
      "[Parallel(n_jobs=-1)]: Done 5808 tasks      | elapsed:  3.1min\n",
      "[Parallel(n_jobs=-1)]: Done 6821 tasks      | elapsed:  3.6min\n",
      "[Parallel(n_jobs=-1)]: Done 7914 tasks      | elapsed:  4.2min\n",
      "[Parallel(n_jobs=-1)]: Done 9089 tasks      | elapsed:  4.8min\n",
      "[Parallel(n_jobs=-1)]: Done 10344 tasks      | elapsed:  5.4min\n"
     ]
    }
   ],
   "source": [
    "xgb_grd_search.fit(X_train, y_train)"
   ]
  },
  {
   "cell_type": "code",
   "execution_count": 223,
   "metadata": {},
   "outputs": [
    {
     "data": {
      "text/plain": [
       "{'learning_rate': 0.05,\n",
       " 'max_depth': 10,\n",
       " 'n_estimators': 200,\n",
       " 'nthread': 4,\n",
       " 'objective': 'binary:logistic',\n",
       " 'reg_alpha': 1.1,\n",
       " 'reg_lambda': 1.2,\n",
       " 'scale_pos_weight': 10,\n",
       " 'subsample': 0.8}"
      ]
     },
     "execution_count": 223,
     "metadata": {},
     "output_type": "execute_result"
    }
   ],
   "source": [
    "xgb_grd_search.best_params_"
   ]
  },
  {
   "cell_type": "code",
   "execution_count": 225,
   "metadata": {},
   "outputs": [],
   "source": [
    "def xgboostbest(X_train, y_train, X_test, y_test, lr, est, depth, nth, obj, alpha, lmda, sub, spw):\n",
    "    xgb = XGBClassifier(learning_rate = lr,\n",
    "                        n_estimators = est,\n",
    "                        max_depth = depth, \n",
    "                        nthread = nth, \n",
    "                        objective = obj, \n",
    "                        reg_alpha = alpha, \n",
    "                        reg_lambda = lmda, \n",
    "                        subsample = sub, \n",
    "                       scale_pos_weight = spw)\n",
    "    xgb.fit(X_train, y_train)\n",
    "    xgb_preds = xgb.predict(X_test)\n",
    "    score = f1_score(y_test, xgb_preds)\n",
    "    print(\"The F1 score for this model is {}\".format(score))\n",
    "    print (\"\\nClassification report Random Forest Classifier:\\n\",(classification_report(y_test, xgb_preds)))\n",
    "    return(xgb_preds)"
   ]
  },
  {
   "cell_type": "code",
   "execution_count": 228,
   "metadata": {},
   "outputs": [
    {
     "name": "stdout",
     "output_type": "stream",
     "text": [
      "[15:00:48] WARNING: /Users/travis/build/dmlc/xgboost/src/learner.cc:1061: Starting in XGBoost 1.3.0, the default evaluation metric used with the objective 'binary:logistic' was changed from 'error' to 'logloss'. Explicitly set eval_metric if you'd like to restore the old behavior.\n",
      "The F1 score for this model is 0.4551724137931034\n",
      "\n",
      "Classification report Random Forest Classifier:\n",
      "               precision    recall  f1-score   support\n",
      "\n",
      "           0       0.99      0.99      0.99      3305\n",
      "           1       0.47      0.44      0.46        75\n",
      "\n",
      "    accuracy                           0.98      3380\n",
      "   macro avg       0.73      0.71      0.72      3380\n",
      "weighted avg       0.98      0.98      0.98      3380\n",
      "\n"
     ]
    },
    {
     "data": {
      "image/png": "[encoded data removed]",
      "text/plain": [
       "<Figure size 576x432 with 2 Axes>"
      ]
     },
     "metadata": {
      "needs_background": "light"
     },
     "output_type": "display_data"
    }
   ],
   "source": [
    "plot_confusion_matrix(\n",
    "    y_test,\n",
    "    pred = xgboostbest(X_train, y_train, X_test, y_test, 0.05, 200, 10, 4,'binary:logistic', 1.1, 1.2, 0.8, 10),\n",
    "    classes = ['Non Habitable', 'Habitable'], # put your list here\n",
    "    normalize=False,\n",
    "    title='Confusion matrix',\n",
    "    cmap=plt.cm.Blues\n",
    ")"
   ]
  },
  {
   "cell_type": "markdown",
   "metadata": {},
   "source": [
    "> Light GBM"
   ]
  },
  {
   "cell_type": "code",
   "execution_count": 260,
   "metadata": {},
   "outputs": [],
   "source": [
    "lgbm_params = {'n_estimators': [100, 150, 200, 250],\n",
    "    'colsample_bytree': [0.65, 0.7],\n",
    "    'max_depth': [5, 15, 20],\n",
    "    'num_leaves': [30, 40, 50],\n",
    "    'reg_alpha': [1.0, 1.1],\n",
    "    'reg_lambda': [1.45, 1.5],\n",
    "    'min_split_gain': [0.42, 0.4, 0.43],\n",
    "    'subsample': [0.7, 0.75],\n",
    "    'subsample_freq': [20],\n",
    "    'class_weight': [{1: 30, 0: 1}, {1: 35, 0: 1}] \n",
    "}"
   ]
  },
  {
   "cell_type": "code",
   "execution_count": 261,
   "metadata": {},
   "outputs": [],
   "source": [
    "lgbm = lgb.LGBMClassifier()"
   ]
  },
  {
   "cell_type": "code",
   "execution_count": 262,
   "metadata": {},
   "outputs": [],
   "source": [
    "lgbm_grd_search = GridSearchCV(estimator = lgbm, param_grid = lgbm_params, cv = 3, n_jobs = -1, verbose =2)"
   ]
  },
  {
   "cell_type": "code",
   "execution_count": 263,
   "metadata": {},
   "outputs": [
    {
     "name": "stdout",
     "output_type": "stream",
     "text": [
      "Fitting 3 folds for each of 3456 candidates, totalling 10368 fits\n"
     ]
    },
    {
     "name": "stderr",
     "output_type": "stream",
     "text": [
      "[Parallel(n_jobs=-1)]: Using backend LokyBackend with 12 concurrent workers.\n",
      "[Parallel(n_jobs=-1)]: Done  17 tasks      | elapsed:    0.2s\n",
      "[Parallel(n_jobs=-1)]: Done 432 tasks      | elapsed:    2.1s\n",
      "[Parallel(n_jobs=-1)]: Done 1244 tasks      | elapsed:    6.3s\n",
      "[Parallel(n_jobs=-1)]: Done 2376 tasks      | elapsed:   12.1s\n",
      "[Parallel(n_jobs=-1)]: Done 3836 tasks      | elapsed:   19.9s\n",
      "[Parallel(n_jobs=-1)]: Done 5616 tasks      | elapsed:   29.6s\n",
      "[Parallel(n_jobs=-1)]: Done 7724 tasks      | elapsed:   42.0s\n",
      "[Parallel(n_jobs=-1)]: Done 10152 tasks      | elapsed:  1.0min\n",
      "[Parallel(n_jobs=-1)]: Done 10345 out of 10368 | elapsed:  1.1min remaining:    0.1s\n",
      "[Parallel(n_jobs=-1)]: Done 10368 out of 10368 | elapsed:  1.1min finished\n"
     ]
    },
    {
     "data": {
      "text/plain": [
       "GridSearchCV(cv=3, estimator=LGBMClassifier(), n_jobs=-1,\n",
       "             param_grid={'class_weight': [{0: 1, 1: 30}, {0: 1, 1: 35}],\n",
       "                         'colsample_bytree': [0.7, 0.75],\n",
       "                         'max_depth': [5, 15, 20],\n",
       "                         'min_split_gain': [0.42, 0.4, 0.43],\n",
       "                         'n_estimators': [100, 150, 200, 250],\n",
       "                         'num_leaves': [30, 40, 50], 'reg_alpha': [1.0, 1.1],\n",
       "                         'reg_lambda': [1.45, 1.5], 'subsample': [0.7, 0.75],\n",
       "                         'subsample_freq': [20]},\n",
       "             verbose=2)"
      ]
     },
     "execution_count": 263,
     "metadata": {},
     "output_type": "execute_result"
    }
   ],
   "source": [
    "lgbm_grd_search.fit(X_train, y_train)"
   ]
  },
  {
   "cell_type": "code",
   "execution_count": 264,
   "metadata": {},
   "outputs": [
    {
     "data": {
      "text/plain": [
       "{'class_weight': {1: 30, 0: 1},\n",
       " 'colsample_bytree': 0.7,\n",
       " 'max_depth': 15,\n",
       " 'min_split_gain': 0.4,\n",
       " 'n_estimators': 250,\n",
       " 'num_leaves': 30,\n",
       " 'reg_alpha': 1.1,\n",
       " 'reg_lambda': 1.5,\n",
       " 'subsample': 0.7,\n",
       " 'subsample_freq': 20}"
      ]
     },
     "execution_count": 264,
     "metadata": {},
     "output_type": "execute_result"
    }
   ],
   "source": [
    "lgbm_grd_search.best_params_"
   ]
  },
  {
   "cell_type": "code",
   "execution_count": 257,
   "metadata": {},
   "outputs": [],
   "source": [
    "def lightgbest(X_train, y_train, X_test, y_test, weight = None):\n",
    "    lgbm = lgb.LGBMClassifier(colsample_bytree = 0.7,\n",
    "                             boosting_type='gbdt', \n",
    "                             num_leaves = 30, \n",
    "                              min_split_gain = 0.4,\n",
    "                              max_depth = 15, \n",
    "                             reg_alpha = 1.1,\n",
    "                             reg_lambda = 1.5,\n",
    "                             class_weight = weight, \n",
    "                             random_state = 13,\n",
    "                             subsample = 0.7,\n",
    "                             subsample_freq= 20)\n",
    "    lgbm = lgbm.fit(X_train, y_train)\n",
    "    lgb_pred = lgbm.predict(X_test)\n",
    "    score = f1_score(y_test, lgb_pred)\n",
    "    print(\"The F1 score for this model is {}\".format(score))\n",
    "    print (\"\\nClassification report Random Forest Classifier:\\n\",(classification_report(y_test, lgb_pred)))\n",
    "    return(lgb_pred)"
   ]
  },
  {
   "cell_type": "code",
   "execution_count": 258,
   "metadata": {},
   "outputs": [
    {
     "name": "stdout",
     "output_type": "stream",
     "text": [
      "The F1 score for this model is 0.46086956521739125\n",
      "\n",
      "Classification report Random Forest Classifier:\n",
      "               precision    recall  f1-score   support\n",
      "\n",
      "           0       0.99      0.97      0.98      3305\n",
      "           1       0.34      0.71      0.46        75\n",
      "\n",
      "    accuracy                           0.96      3380\n",
      "   macro avg       0.67      0.84      0.72      3380\n",
      "weighted avg       0.98      0.96      0.97      3380\n",
      "\n"
     ]
    },
    {
     "data": {
      "image/png": "[encoded data removed]",
      "text/plain": [
       "<Figure size 576x432 with 2 Axes>"
      ]
     },
     "metadata": {
      "needs_background": "light"
     },
     "output_type": "display_data"
    }
   ],
   "source": [
    "plot_confusion_matrix(\n",
    "    y_test,\n",
    "    pred = lightgbest(X_train, y_train, X_test, y_test, {1: 30, 0: 1}),\n",
    "    classes = ['Non Habitable', 'Habitable'], # put your list here\n",
    "    normalize=False,\n",
    "    title='Confusion matrix',\n",
    "    cmap=plt.cm.Blues\n",
    ")"
   ]
  },
  {
   "cell_type": "code",
   "execution_count": null,
   "metadata": {},
   "outputs": [],
   "source": []
  }
 ],
 "metadata": {
  "kernelspec": {
   "display_name": "Python 3",
   "language": "python",
   "name": "python3"
  },
  "language_info": {
   "codemirror_mode": {
    "name": "ipython",
    "version": 3
   },
   "file_extension": ".py",
   "mimetype": "text/x-python",
   "name": "python",
   "nbconvert_exporter": "python",
   "pygments_lexer": "ipython3",
   "version": "3.8.5"
  }
 },
 "nbformat": 4,
 "nbformat_minor": 4
}

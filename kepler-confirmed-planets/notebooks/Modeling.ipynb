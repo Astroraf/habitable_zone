{
 "cells": [
  {
   "cell_type": "code",
   "execution_count": 1,
   "metadata": {},
   "outputs": [],
   "source": [
    "# Common packages\n",
    "import numpy as np\n",
    "import pandas as pd\n",
    "import requests\n",
    "import math\n",
    "from astropy.constants import sigma_sb, L_sun\n",
    "from bs4 import BeautifulSoup as BS\n",
    "import itertools\n",
    "import warnings\n",
    "warnings.filterwarnings('ignore')\n",
    "\n",
    "# Visuals\n",
    "import matplotlib.pyplot as plt\n",
    "import seaborn as sn\n",
    "from matplotlib import cm\n",
    "\n",
    "# Models\n",
    "from sklearn.model_selection import train_test_split\n",
    "from sklearn import linear_model\n",
    "from sklearn.linear_model import LogisticRegression\n",
    "from sklearn.preprocessing import StandardScaler\n",
    "from sklearn.preprocessing import PolynomialFeatures\n",
    "from sklearn.linear_model import LinearRegression\n",
    "from sklearn.model_selection import GridSearchCV, cross_val_score\n",
    "from sklearn.tree import DecisionTreeClassifier\n",
    "from sklearn.ensemble import BaggingClassifier, RandomForestClassifier, RandomForestRegressor, BaggingRegressor\n",
    "from sklearn.ensemble import AdaBoostClassifier, GradientBoostingClassifier\n",
    "from sklearn.neighbors import KNeighborsClassifier\n",
    "from xgboost import XGBClassifier\n",
    "import lightgbm as lgb\n",
    "from sklearn.svm import SVC\n",
    "\n",
    "# Resampling\n",
    "from imblearn.under_sampling import RandomUnderSampler\n",
    "from imblearn.over_sampling import RandomOverSampler\n",
    "import random\n",
    "\n",
    "# Metrics\n",
    "from sklearn.metrics import confusion_matrix, roc_curve, auc, f1_score, accuracy_score\n",
    "from sklearn.metrics import recall_score, precision_score, classification_report\n",
    "from sklearn import metrics\n"
   ]
  },
  {
   "cell_type": "code",
   "execution_count": 2,
   "metadata": {},
   "outputs": [],
   "source": [
    "# Read in final csv file from preprocessing\n",
    "HZ_final = pd.read_csv('HZ_final.csv')"
   ]
  },
  {
   "cell_type": "code",
   "execution_count": 3,
   "metadata": {},
   "outputs": [],
   "source": [
    "#Dropped the unnamed column\n",
    "HZ_final = HZ_final.drop(columns = ['Unnamed: 0'])"
   ]
  },
  {
   "cell_type": "code",
   "execution_count": 5,
   "metadata": {},
   "outputs": [],
   "source": [
    "#Selected the features for modeling \n",
    "features = ['pl_orbper_yrs', 'st_mass_x', 'sy_snum', 'sy_pnum',\n",
    "       'pl_orbper', 'pl_orbsmax', 'st_rad_m']"
   ]
  },
  {
   "cell_type": "code",
   "execution_count": 6,
   "metadata": {},
   "outputs": [],
   "source": [
    "# Selected target variable \n",
    "target = HZ_final.hab_zone"
   ]
  },
  {
   "cell_type": "code",
   "execution_count": 7,
   "metadata": {},
   "outputs": [],
   "source": [
    "# Did test train split to test on all models\n",
    "X_train, X_test, y_train, y_test = train_test_split(HZ_final[features], target, random_state=13 ,test_size=0.8)"
   ]
  },
  {
   "cell_type": "markdown",
   "metadata": {},
   "source": [
    "# Creating Poly Features"
   ]
  },
  {
   "cell_type": "code",
   "execution_count": 8,
   "metadata": {},
   "outputs": [],
   "source": [
    "# Created function to produce polynomial features \n",
    "def poly_df (df, degree):\n",
    "    \n",
    "    poly = PolynomialFeatures(degree=degree, include_bias=False)\n",
    "    poly_data = poly.fit_transform(df)\n",
    "    poly_columns = poly.get_feature_names(df.columns)\n",
    "    HZ_poly = pd.DataFrame(poly_data, columns=poly_columns)\n",
    "    return HZ_poly"
   ]
  },
  {
   "cell_type": "code",
   "execution_count": 9,
   "metadata": {},
   "outputs": [],
   "source": [
    "# Created polynomial dataframe for test train split\n",
    "HZ_poly  = poly_df(HZ_final[features], 2)"
   ]
  },
  {
   "cell_type": "code",
   "execution_count": 10,
   "metadata": {},
   "outputs": [],
   "source": [
    "# Test train split for poly functions \n",
    "X_train_py, X_test_py, y_train_py, y_test_py = train_test_split(HZ_poly, target, random_state=13, test_size=0.8)"
   ]
  },
  {
   "cell_type": "markdown",
   "metadata": {},
   "source": [
    "# Random Sampling"
   ]
  },
  {
   "cell_type": "markdown",
   "metadata": {},
   "source": [
    "> Boostrap method"
   ]
  },
  {
   "cell_type": "code",
   "execution_count": 131,
   "metadata": {},
   "outputs": [],
   "source": [
    "# Oversample the minority class by %25 \n",
    "oversample = RandomOverSampler(sampling_strategy=0.25)"
   ]
  },
  {
   "cell_type": "code",
   "execution_count": 132,
   "metadata": {},
   "outputs": [],
   "source": [
    "# Fit the X_train, y_train with the oversample\n",
    "X_ov_tr, y_ov_tr = oversample.fit_sample(X_train, y_train)"
   ]
  },
  {
   "cell_type": "code",
   "execution_count": 15,
   "metadata": {},
   "outputs": [],
   "source": [
    "# Fit the X_train and y_train poly with the oversanpling\n",
    "X_over, y_over = oversample.fit_resample(X_train_py, y_train_py)"
   ]
  },
  {
   "cell_type": "code",
   "execution_count": 16,
   "metadata": {},
   "outputs": [],
   "source": [
    "# Undersample of the majority class \n",
    "undersample = RandomUnderSampler(sampling_strategy='majority')"
   ]
  },
  {
   "cell_type": "code",
   "execution_count": 17,
   "metadata": {},
   "outputs": [],
   "source": [
    "# Fit undersample with the poly features \n",
    "X_under, y_under = undersample.fit_resample(X_train_py, y_train_py)"
   ]
  },
  {
   "cell_type": "code",
   "execution_count": 18,
   "metadata": {},
   "outputs": [],
   "source": [
    "# Get the weighted averages for the target class\n",
    "weighted = HZ_final.hab_zone.value_counts(normalize=True)"
   ]
  },
  {
   "cell_type": "code",
   "execution_count": 19,
   "metadata": {},
   "outputs": [],
   "source": [
    "# Create dictionary that zips the key and value pairs from the weighted averages\n",
    "weighted = dict(zip(weighted.index, weighted.values))"
   ]
  },
  {
   "cell_type": "code",
   "execution_count": 21,
   "metadata": {},
   "outputs": [],
   "source": [
    "# Rebalance weight classes, for minority class it is weighted more\n",
    "weights_r = {1: 0.9763257575757576, 0: 0.023674242424242424}"
   ]
  },
  {
   "cell_type": "code",
   "execution_count": 22,
   "metadata": {},
   "outputs": [],
   "source": [
    "# Minority class weighted 42 times more \n",
    "scal_pos = int(weights_r[1]/weights_r[0])"
   ]
  },
  {
   "cell_type": "markdown",
   "metadata": {},
   "source": [
    "# Modeling"
   ]
  },
  {
   "cell_type": "markdown",
   "metadata": {},
   "source": [
    "> Logistic Regression"
   ]
  },
  {
   "cell_type": "code",
   "execution_count": 23,
   "metadata": {},
   "outputs": [],
   "source": [
    "# Create logistic model function that takes in train test split, and class weights given\n",
    "# returns the F1 score and classification report \n",
    "def log_reg_model(X_train, y_train, X_test, y_test, weights = 'balanced'):\n",
    "    logreg = LogisticRegression(class_weight = weights)\n",
    "    logreg = logreg.fit(X_train, y_train)\n",
    "    logreg_pred = logreg.predict(X_test)\n",
    "    score = f1_score(y_test, logreg_pred, average ='binary')\n",
    "    print(\"The F1 score for this model is {}\".format(score))\n",
    "    \n",
    "    print(\"\\nClassification report :\\n\",(classification_report(y_test, logreg_pred)))\n",
    "    return(logreg_pred)"
   ]
  },
  {
   "cell_type": "code",
   "execution_count": 40,
   "metadata": {},
   "outputs": [],
   "source": [
    "# confusion matrix plotter\n",
    "# Takes in the target class, the predictions, classes, and plots based on color \n",
    "def plot_confusion_matrix(\n",
    "    target,\n",
    "    pred, \n",
    "    classes,\n",
    "    normalize=False,\n",
    "    title='Confusion matrix',\n",
    "    cmap=plt.cm.YlOrRd\n",
    "):\n",
    "    '''\n",
    "    Function that prints and plots a model's confusion matrix.\n",
    "    Input\n",
    "    -----\n",
    "    cm : sklearn confusion matrix\n",
    "        `sklearn.metrics.confusion_matrix(y_true, y_pred)`\n",
    "    classes : list (str)\n",
    "        Names of target classes.\n",
    "    Optional input\n",
    "    --------------\n",
    "    normalize : bool\n",
    "        Whether to apply normalization (default=False).\n",
    "        Normalization can be applied by setting `normalize=True`.\n",
    "    title : str\n",
    "        Title of the returned plot.\n",
    "    cmap : matplotlib color map\n",
    "        For options, visit:\n",
    "        `https://matplotlib.org/3.1.0/tutorials/colors/colormaps.html`\n",
    "    Output\n",
    "    ------\n",
    "    Prints a stylized confusion matrix.\n",
    "    '''\n",
    "    # convert to percentage, if normalize set to True\n",
    "    if normalize:\n",
    "        cm = cm.astype('float') / cm.sum(axis=1)[:, np.newaxis]\n",
    "    cm = confusion_matrix(target, pred)\n",
    "    # plot\n",
    "    plt.figure(figsize=(8, 6))\n",
    "    plt.imshow(cm, interpolation='nearest', cmap=cmap)\n",
    "    plt.title(title)\n",
    "    plt.colorbar()\n",
    "    tick_marks = np.arange(len(classes))\n",
    "    plt.xticks(tick_marks, classes, rotation=45)\n",
    "    plt.yticks(tick_marks, classes)\n",
    "    # format true positives and others\n",
    "    fmt = '.2f' if normalize else 'd'\n",
    "    thresh = cm.max() / 2.\n",
    "    for i, j in itertools.product(range(cm.shape[0]), range(cm.shape[1])):\n",
    "        plt.text(j, i, format(cm[i, j], fmt), fontsize=16,\n",
    "                 horizontalalignment=\"center\", verticalalignment=\"center\",\n",
    "                 color=\"orange\" if cm[i, j] > thresh else \"black\")\n",
    "    # add axes labels\n",
    "    plt.ylabel('True label')\n",
    "    plt.xlabel('Predicted label')"
   ]
  },
  {
   "cell_type": "code",
   "execution_count": 122,
   "metadata": {},
   "outputs": [
    {
     "name": "stdout",
     "output_type": "stream",
     "text": [
      "The F1 score for this model is 0.0\n",
      "\n",
      "Classification report :\n",
      "               precision    recall  f1-score   support\n",
      "\n",
      "           0       0.98      1.00      0.99      3305\n",
      "           1       0.00      0.00      0.00        75\n",
      "\n",
      "    accuracy                           0.98      3380\n",
      "   macro avg       0.49      0.50      0.49      3380\n",
      "weighted avg       0.96      0.98      0.97      3380\n",
      "\n"
     ]
    },
    {
     "data": {
      "image/png": "[encoded data removed]",
      "text/plain": [
       "<Figure size 576x432 with 2 Axes>"
      ]
     },
     "metadata": {
      "needs_background": "light"
     },
     "output_type": "display_data"
    }
   ],
   "source": [
    "# Plots the confusion matrix with the model it is called on. \n",
    "plot_confusion_matrix(\n",
    "    y_test,\n",
    "    pred = log_reg_model(X_ov_tr, y_ov_tr, X_test, y_test),\n",
    "    classes = ['Non Habitable', 'Habitable'], # put your list here\n",
    "    normalize=False,\n",
    "    title='Confusion matrix',\n",
    "    cmap=plt.cm.YlOrRd\n",
    ")"
   ]
  },
  {
   "cell_type": "code",
   "execution_count": 201,
   "metadata": {},
   "outputs": [
    {
     "name": "stdout",
     "output_type": "stream",
     "text": [
      "The F1 score for this model is 0.0\n",
      "\n",
      "Classification report :\n",
      "               precision    recall  f1-score   support\n",
      "\n",
      "           0       0.98      1.00      0.99      3305\n",
      "           1       0.00      0.00      0.00        75\n",
      "\n",
      "    accuracy                           0.98      3380\n",
      "   macro avg       0.49      0.50      0.49      3380\n",
      "weighted avg       0.96      0.98      0.97      3380\n",
      "\n"
     ]
    },
    {
     "data": {
      "image/png": "[encoded data removed]",
      "text/plain": [
       "<Figure size 576x432 with 2 Axes>"
      ]
     },
     "metadata": {
      "needs_background": "light"
     },
     "output_type": "display_data"
    }
   ],
   "source": [
    "# Plots the confusion matrix with the model it is called on. \n",
    "# Using logistic regression with the weights\n",
    "plot_confusion_matrix(\n",
    "    y_test,\n",
    "    pred = log_reg_model(X_train, y_train, X_test, y_test, weights=weights_r),\n",
    "    classes = ['Non Habitable', 'Habitable'], # put your list here\n",
    "    normalize=False,\n",
    "    title='Confusion matrix',\n",
    "    cmap=plt.cm.YlOrRd\n",
    ")"
   ]
  },
  {
   "cell_type": "code",
   "execution_count": 45,
   "metadata": {},
   "outputs": [
    {
     "name": "stdout",
     "output_type": "stream",
     "text": [
      "The F1 score for this model is 0.0\n",
      "\n",
      "Classification report :\n",
      "               precision    recall  f1-score   support\n",
      "\n",
      "           0       0.98      1.00      0.99      3305\n",
      "           1       0.00      0.00      0.00        75\n",
      "\n",
      "    accuracy                           0.98      3380\n",
      "   macro avg       0.49      0.50      0.49      3380\n",
      "weighted avg       0.96      0.98      0.97      3380\n",
      "\n"
     ]
    },
    {
     "data": {
      "image/png": "[encoded data removed]",
      "text/plain": [
       "<Figure size 576x432 with 2 Axes>"
      ]
     },
     "metadata": {
      "needs_background": "light"
     },
     "output_type": "display_data"
    }
   ],
   "source": [
    "# Plots the confusion matrix with the model it is called on. \n",
    "# Logistic Regeression model with poly features and weights\n",
    "plot_confusion_matrix(\n",
    "    y_test,\n",
    "    pred = log_reg_model(X_train_py, y_train, X_test_py, y_test, weights=weights_r),\n",
    "    classes = ['Non Habitable', 'Habitable'], # put your list here\n",
    "    normalize=False,\n",
    "    title='Confusion matrix',\n",
    "    cmap=plt.cm.YlOrRd\n",
    ")"
   ]
  },
  {
   "cell_type": "code",
   "execution_count": 47,
   "metadata": {},
   "outputs": [
    {
     "name": "stdout",
     "output_type": "stream",
     "text": [
      "The F1 score for this model is 0.0\n",
      "\n",
      "Classification report :\n",
      "               precision    recall  f1-score   support\n",
      "\n",
      "           0       0.98      1.00      0.99      3305\n",
      "           1       0.00      0.00      0.00        75\n",
      "\n",
      "    accuracy                           0.98      3380\n",
      "   macro avg       0.49      0.50      0.49      3380\n",
      "weighted avg       0.96      0.98      0.97      3380\n",
      "\n"
     ]
    },
    {
     "data": {
      "image/png": "[encoded data removed]",
      "text/plain": [
       "<Figure size 576x432 with 2 Axes>"
      ]
     },
     "metadata": {
      "needs_background": "light"
     },
     "output_type": "display_data"
    }
   ],
   "source": [
    "# Plots the confusion matrix with the model it is called on. \n",
    "# Undersampling of the minority class with weights \n",
    "plot_confusion_matrix(\n",
    "    y_test,\n",
    "    pred = log_reg_model(X_under, y_under, X_test_py, y_test, weights=weights_r),\n",
    "    classes = ['Non Habitable', 'Habitable'], # put your list here\n",
    "    normalize=False,\n",
    "    title='Confusion matrix',\n",
    "    cmap=plt.cm.YlOrRd\n",
    ")"
   ]
  },
  {
   "cell_type": "markdown",
   "metadata": {},
   "source": [
    "> Radnom Forest"
   ]
  },
  {
   "cell_type": "code",
   "execution_count": 29,
   "metadata": {},
   "outputs": [],
   "source": [
    "# Created random forest function that takes in test train split, with\n",
    "# n_estimators, max_depth paramteres given\n",
    "def randomforest(X_train, y_train, X_test, y_test, est, depth, weights = 'balanced'):\n",
    "    randfor = RandomForestClassifier(n_estimators = est, max_depth = depth, class_weight = weights, random_state = 13)\n",
    "    randfor = randfor.fit(X_train, y_train)\n",
    "    random_pred = randfor.predict(X_test)\n",
    "    score = f1_score(y_test, random_pred)\n",
    "    print(\"The F1 score for this model is {}\".format(score))\n",
    "    print (\"\\nClassification report Random Forest Classifier:\\n\",(classification_report(y_test, random_pred)))\n",
    "    \n",
    "    return(random_pred)"
   ]
  },
  {
   "cell_type": "code",
   "execution_count": 48,
   "metadata": {},
   "outputs": [
    {
     "name": "stdout",
     "output_type": "stream",
     "text": [
      "The F1 score for this model is 0.3711340206185567\n",
      "\n",
      "Classification report Random Forest Classifier:\n",
      "               precision    recall  f1-score   support\n",
      "\n",
      "           0       0.99      0.95      0.97      3305\n",
      "           1       0.25      0.72      0.37        75\n",
      "\n",
      "    accuracy                           0.95      3380\n",
      "   macro avg       0.62      0.84      0.67      3380\n",
      "weighted avg       0.98      0.95      0.96      3380\n",
      "\n"
     ]
    },
    {
     "data": {
      "image/png": "[encoded data removed]",
      "text/plain": [
       "<Figure size 576x432 with 2 Axes>"
      ]
     },
     "metadata": {
      "needs_background": "light"
     },
     "output_type": "display_data"
    }
   ],
   "source": [
    "# Plot with random forest model, with given paramteres randomly chosen on test train split\n",
    "plot_confusion_matrix(\n",
    "    y_test,\n",
    "    pred = randomforest(X_train, y_train, X_test, y_test, 20, 5),\n",
    "    classes = ['Non Habitable', 'Habitable'], # put your list here\n",
    "    normalize=False,\n",
    "    title='Confusion matrix',\n",
    "    cmap=plt.cm.YlOrRd\n",
    ")"
   ]
  },
  {
   "cell_type": "code",
   "execution_count": 49,
   "metadata": {},
   "outputs": [
    {
     "name": "stdout",
     "output_type": "stream",
     "text": [
      "The F1 score for this model is 0.3917525773195877\n",
      "\n",
      "Classification report Random Forest Classifier:\n",
      "               precision    recall  f1-score   support\n",
      "\n",
      "           0       0.99      0.95      0.97      3305\n",
      "           1       0.26      0.76      0.39        75\n",
      "\n",
      "    accuracy                           0.95      3380\n",
      "   macro avg       0.63      0.86      0.68      3380\n",
      "weighted avg       0.98      0.95      0.96      3380\n",
      "\n"
     ]
    },
    {
     "data": {
      "image/png": "[encoded data removed]",
      "text/plain": [
       "<Figure size 576x432 with 2 Axes>"
      ]
     },
     "metadata": {
      "needs_background": "light"
     },
     "output_type": "display_data"
    }
   ],
   "source": [
    "# Plot with random forest model, with given paramteres randomly chosen on test train split with weighted averages\n",
    "plot_confusion_matrix(\n",
    "    y_test,\n",
    "    pred = randomforest(X_train, y_train, X_test, y_test, 20, 5, weights_r),\n",
    "    classes = ['Non Habitable', 'Habitable'], # put your list here\n",
    "    normalize=False,\n",
    "    title='Confusion matrix',\n",
    "    cmap=plt.cm.YlOrRd\n",
    ")"
   ]
  },
  {
   "cell_type": "code",
   "execution_count": 50,
   "metadata": {},
   "outputs": [
    {
     "name": "stdout",
     "output_type": "stream",
     "text": [
      "The F1 score for this model is 0.30388692579505294\n",
      "\n",
      "Classification report Random Forest Classifier:\n",
      "               precision    recall  f1-score   support\n",
      "\n",
      "           0       0.99      0.95      0.97      3305\n",
      "           1       0.21      0.57      0.30        75\n",
      "\n",
      "    accuracy                           0.94      3380\n",
      "   macro avg       0.60      0.76      0.64      3380\n",
      "weighted avg       0.97      0.94      0.95      3380\n",
      "\n"
     ]
    },
    {
     "data": {
      "image/png": "[encoded data removed]",
      "text/plain": [
       "<Figure size 576x432 with 2 Axes>"
      ]
     },
     "metadata": {
      "needs_background": "light"
     },
     "output_type": "display_data"
    }
   ],
   "source": [
    "# Plot with random forest model, with given paramteres randomly chosen on test train split poly functions and \n",
    "# weighted averages \n",
    "plot_confusion_matrix(\n",
    "    y_test,\n",
    "    pred = randomforest(X_train_py, y_train_py, X_test_py, y_test, 20, 5, weights_r),\n",
    "    classes = ['Non Habitable', 'Habitable'], # put your list here\n",
    "    normalize=False,\n",
    "    title='Confusion matrix',\n",
    "    cmap=plt.cm.YlOrRd\n",
    ")"
   ]
  },
  {
   "cell_type": "markdown",
   "metadata": {},
   "source": [
    "> XGboost"
   ]
  },
  {
   "cell_type": "code",
   "execution_count": 33,
   "metadata": {},
   "outputs": [],
   "source": [
    "# Created xgboost with train test split features and n_estimators, and max_depth parameters\n",
    "\n",
    "def xgboost(X_train, y_train, X_test, y_test, est, depth ):\n",
    "    xgb = XGBClassifier(n_estimators = est, max_depth = depth)\n",
    "    xgb.fit(X_train, y_train)\n",
    "    xgb_preds = xgb.predict(X_test)\n",
    "    score = f1_score(y_test, xgb_preds)\n",
    "    print(\"The F1 score for this model is {}\".format(score))\n",
    "    print (\"\\nClassification report Random Forest Classifier:\\n\",(classification_report(y_test, xgb_preds)))\n",
    "    return(xgb_preds)\n",
    "    "
   ]
  },
  {
   "cell_type": "code",
   "execution_count": 51,
   "metadata": {},
   "outputs": [
    {
     "name": "stdout",
     "output_type": "stream",
     "text": [
      "[13:15:05] WARNING: /Users/travis/build/dmlc/xgboost/src/learner.cc:1061: Starting in XGBoost 1.3.0, the default evaluation metric used with the objective 'binary:logistic' was changed from 'error' to 'logloss'. Explicitly set eval_metric if you'd like to restore the old behavior.\n",
      "The F1 score for this model is 0.26\n",
      "\n",
      "Classification report Random Forest Classifier:\n",
      "               precision    recall  f1-score   support\n",
      "\n",
      "           0       0.98      1.00      0.99      3305\n",
      "           1       0.52      0.17      0.26        75\n",
      "\n",
      "    accuracy                           0.98      3380\n",
      "   macro avg       0.75      0.58      0.62      3380\n",
      "weighted avg       0.97      0.98      0.97      3380\n",
      "\n"
     ]
    },
    {
     "data": {
      "image/png": "[encoded data removed]",
      "text/plain": [
       "<Figure size 576x432 with 2 Axes>"
      ]
     },
     "metadata": {
      "needs_background": "light"
     },
     "output_type": "display_data"
    }
   ],
   "source": [
    "# Plot confusion matrix with test train split and random chosen parameters \n",
    "plot_confusion_matrix(\n",
    "    y_test,\n",
    "    pred = xgboost(X_train, y_train, X_test, y_test, 20, 5),\n",
    "    classes = ['Non Habitable', 'Habitable'], # put your list here\n",
    "    normalize=False,\n",
    "    title='Confusion matrix',\n",
    "    cmap=plt.cm.YlOrRd\n",
    ")"
   ]
  },
  {
   "cell_type": "code",
   "execution_count": 52,
   "metadata": {},
   "outputs": [
    {
     "name": "stdout",
     "output_type": "stream",
     "text": [
      "[13:15:10] WARNING: /Users/travis/build/dmlc/xgboost/src/learner.cc:1061: Starting in XGBoost 1.3.0, the default evaluation metric used with the objective 'binary:logistic' was changed from 'error' to 'logloss'. Explicitly set eval_metric if you'd like to restore the old behavior.\n",
      "The F1 score for this model is 0.13084112149532712\n",
      "\n",
      "Classification report Random Forest Classifier:\n",
      "               precision    recall  f1-score   support\n",
      "\n",
      "           0       0.98      0.99      0.99      3305\n",
      "           1       0.22      0.09      0.13        75\n",
      "\n",
      "    accuracy                           0.97      3380\n",
      "   macro avg       0.60      0.54      0.56      3380\n",
      "weighted avg       0.96      0.97      0.97      3380\n",
      "\n"
     ]
    },
    {
     "data": {
      "image/png": "[encoded data removed]",
      "text/plain": [
       "<Figure size 576x432 with 2 Axes>"
      ]
     },
     "metadata": {
      "needs_background": "light"
     },
     "output_type": "display_data"
    }
   ],
   "source": [
    "# Plot confusion matrix with test train split and random chosen parameters \n",
    "plot_confusion_matrix(\n",
    "    y_test,\n",
    "    pred = xgboost(X_train_py, y_train, X_test_py, y_test, 20, 5),\n",
    "    classes = ['Non Habitable', 'Habitable'], # put your list here\n",
    "    normalize=False,\n",
    "    title='Confusion matrix',\n",
    "    cmap=plt.cm.YlOrRd\n",
    ")"
   ]
  },
  {
   "cell_type": "markdown",
   "metadata": {},
   "source": [
    "> Light Gradient Boost"
   ]
  },
  {
   "cell_type": "code",
   "execution_count": 36,
   "metadata": {},
   "outputs": [],
   "source": [
    "# Created Light GBM function which takles in x train test split parameters, given the \n",
    "# boosting type, num of leaves, max depth, learning rate, and class weight\n",
    "def lightgb(X_train, y_train, X_test, y_test, weight = None):\n",
    "    lgbm = lgb.LGBMClassifier(boosting_type='gbdt', \n",
    "                             num_leaves = 31, \n",
    "                             max_depth = 7, \n",
    "                             learning_rate = 0.5, \n",
    "                             class_weight = weight, \n",
    "                             random_state = 13,\n",
    "                             n_jobs = -1)\n",
    "    lgbm = lgbm.fit(X_train, y_train)\n",
    "    lgb_pred = lgbm.predict(X_test)\n",
    "    score = f1_score(y_test, lgb_pred)\n",
    "    print(\"The F1 score for this model is {}\".format(score))\n",
    "    print (\"\\nClassification report Random Forest Classifier:\\n\",(classification_report(y_test, lgb_pred)))\n",
    "    return(lgb_pred)"
   ]
  },
  {
   "cell_type": "code",
   "execution_count": 53,
   "metadata": {},
   "outputs": [
    {
     "name": "stdout",
     "output_type": "stream",
     "text": [
      "[LightGBM] [Warning] Accuracy may be bad since you didn't explicitly set num_leaves OR 2^max_depth > num_leaves. (num_leaves=31).\n",
      "The F1 score for this model is 0.26548672566371684\n",
      "\n",
      "Classification report Random Forest Classifier:\n",
      "               precision    recall  f1-score   support\n",
      "\n",
      "           0       0.98      0.99      0.99      3305\n",
      "           1       0.39      0.20      0.27        75\n",
      "\n",
      "    accuracy                           0.98      3380\n",
      "   macro avg       0.69      0.60      0.63      3380\n",
      "weighted avg       0.97      0.98      0.97      3380\n",
      "\n"
     ]
    },
    {
     "data": {
      "image/png": "[encoded data removed]",
      "text/plain": [
       "<Figure size 576x432 with 2 Axes>"
      ]
     },
     "metadata": {
      "needs_background": "light"
     },
     "output_type": "display_data"
    }
   ],
   "source": [
    "# Plot confusion matrix with train test split features\n",
    "plot_confusion_matrix(\n",
    "    y_test,\n",
    "    pred = lightgb(X_train, y_train, X_test, y_test),\n",
    "    classes = ['Non Habitable', 'Habitable'], # put your list here\n",
    "    normalize=False,\n",
    "    title='Confusion matrix',\n",
    "    cmap=plt.cm.YlOrRd\n",
    ")"
   ]
  },
  {
   "cell_type": "markdown",
   "metadata": {},
   "source": [
    "> SVC"
   ]
  },
  {
   "cell_type": "code",
   "execution_count": 115,
   "metadata": {},
   "outputs": [],
   "source": [
    "# Created SVC function passing in the test train split features \n",
    "# with the class weight and kernal chosen \n",
    "def svc(X_train, y_train, X_test, y_test):\n",
    "    svc_mod = SVC(kernel = 'sigmoid',\n",
    "                 class_weight = {1: 5, 0: 1})\n",
    "    svc_mod = svc_mod.fit(X_train, y_train)\n",
    "    svc_pred = svc_mod.predict(X_test)\n",
    "    score = f1_score(y_test, svc_pred)\n",
    "    print(\"The F1 score for this model is {}\".format(score))\n",
    "    print (\"\\nClassification report Random Forest Classifier:\\n\",(classification_report(y_test, svc_pred)))\n",
    "    return(svc_pred)\n",
    "    "
   ]
  },
  {
   "cell_type": "code",
   "execution_count": 116,
   "metadata": {},
   "outputs": [
    {
     "name": "stdout",
     "output_type": "stream",
     "text": [
      "The F1 score for this model is 0.052785923753665684\n",
      "\n",
      "Classification report Random Forest Classifier:\n",
      "               precision    recall  f1-score   support\n",
      "\n",
      "           0       0.98      0.92      0.95      3305\n",
      "           1       0.03      0.12      0.05        75\n",
      "\n",
      "    accuracy                           0.90      3380\n",
      "   macro avg       0.51      0.52      0.50      3380\n",
      "weighted avg       0.96      0.90      0.93      3380\n",
      "\n"
     ]
    },
    {
     "data": {
      "image/png": "[encoded data removed]",
      "text/plain": [
       "<Figure size 576x432 with 2 Axes>"
      ]
     },
     "metadata": {
      "needs_background": "light"
     },
     "output_type": "display_data"
    }
   ],
   "source": [
    "# Plot confusion matric with the SVC model \n",
    "plot_confusion_matrix(\n",
    "    y_test,\n",
    "    pred = svc(X_train, y_train, X_test, y_test),\n",
    "    classes = ['Non Habitable', 'Habitable'], # put your list here\n",
    "    normalize=False,\n",
    "    title='Confusion matrix',\n",
    "    cmap=plt.cm.YlOrRd\n",
    ")"
   ]
  },
  {
   "cell_type": "markdown",
   "metadata": {},
   "source": [
    "# Search best parameters:"
   ]
  },
  {
   "cell_type": "markdown",
   "metadata": {},
   "source": [
    "> Grid Search with random forest"
   ]
  },
  {
   "cell_type": "code",
   "execution_count": 150,
   "metadata": {},
   "outputs": [],
   "source": [
    "# Grid Search for Random forest given the criterion, max_depth, max_features, min_sample_leaf, \n",
    "# min_sample_leaf, n_estimators and class weights\n",
    "rf_grid_search = {\n",
    "    'criterion': ['gini'],\n",
    "    'max_depth': [None, 1, 2, 3],\n",
    "    'max_features': [None, 1, 2, 3],\n",
    "    'min_samples_leaf': [None, 1, 2],\n",
    "    'min_samples_split': [0, 1, 2, 3],\n",
    "    'n_estimators': [100, 150, 200],\n",
    "    'class_weight': [{1: 5, 0: 1}, {1: 10, 0: 1}, {1: 20, 0: 1}]\n",
    "}"
   ]
  },
  {
   "cell_type": "code",
   "execution_count": 151,
   "metadata": {},
   "outputs": [],
   "source": [
    "# Choose the model that the for the grid search \n",
    "rf = RandomForestClassifier()\n",
    "\n",
    "# Perform grid search on the randomforest using all processors, choosing 3 fold cross validation \n",
    "grid_search = GridSearchCV(estimator = rf, param_grid = rf_grid_search, cv = 3, n_jobs = -1, verbose = 2)"
   ]
  },
  {
   "cell_type": "code",
   "execution_count": 152,
   "metadata": {},
   "outputs": [
    {
     "name": "stdout",
     "output_type": "stream",
     "text": [
      "Fitting 3 folds for each of 1728 candidates, totalling 5184 fits\n"
     ]
    },
    {
     "name": "stderr",
     "output_type": "stream",
     "text": [
      "[Parallel(n_jobs=-1)]: Using backend LokyBackend with 12 concurrent workers.\n",
      "[Parallel(n_jobs=-1)]: Done  17 tasks      | elapsed:    0.2s\n",
      "[Parallel(n_jobs=-1)]: Done 252 tasks      | elapsed:    4.5s\n",
      "[Parallel(n_jobs=-1)]: Done 658 tasks      | elapsed:   12.5s\n",
      "[Parallel(n_jobs=-1)]: Done 1224 tasks      | elapsed:   23.3s\n",
      "[Parallel(n_jobs=-1)]: Done 1954 tasks      | elapsed:   39.1s\n",
      "[Parallel(n_jobs=-1)]: Done 2844 tasks      | elapsed:   57.8s\n",
      "[Parallel(n_jobs=-1)]: Done 3898 tasks      | elapsed:  1.4min\n",
      "[Parallel(n_jobs=-1)]: Done 5112 tasks      | elapsed:  1.8min\n",
      "[Parallel(n_jobs=-1)]: Done 5184 out of 5184 | elapsed:  1.8min finished\n"
     ]
    },
    {
     "data": {
      "text/plain": [
       "GridSearchCV(cv=3, estimator=RandomForestClassifier(), n_jobs=-1,\n",
       "             param_grid={'class_weight': [{0: 1, 1: 5}, {0: 1, 1: 10},\n",
       "                                          {0: 1, 1: 20}],\n",
       "                         'criterion': ['gini'], 'max_depth': [None, 1, 2, 3],\n",
       "                         'max_features': [None, 1, 2, 3],\n",
       "                         'min_samples_leaf': [None, 1, 2],\n",
       "                         'min_samples_split': [0, 1, 2, 3],\n",
       "                         'n_estimators': [100, 150, 200]},\n",
       "             verbose=2)"
      ]
     },
     "execution_count": 152,
     "metadata": {},
     "output_type": "execute_result"
    }
   ],
   "source": [
    "# Fit grid search with Over sampling dataframe\n",
    "grid_search.fit(X_ov_tr, y_ov_tr)"
   ]
  },
  {
   "cell_type": "code",
   "execution_count": 153,
   "metadata": {},
   "outputs": [
    {
     "data": {
      "text/plain": [
       "{'class_weight': {1: 5, 0: 1},\n",
       " 'criterion': 'gini',\n",
       " 'max_depth': None,\n",
       " 'max_features': 1,\n",
       " 'min_samples_leaf': 1,\n",
       " 'min_samples_split': 2,\n",
       " 'n_estimators': 100}"
      ]
     },
     "execution_count": 153,
     "metadata": {},
     "output_type": "execute_result"
    }
   ],
   "source": [
    "# Shows the best parameters \n",
    "grid_search.best_params_"
   ]
  },
  {
   "cell_type": "code",
   "execution_count": 155,
   "metadata": {},
   "outputs": [],
   "source": [
    "# New function for random forest with with the best features choosen from grid search \n",
    "def randomforestbest(X_train, y_train, X_test, y_test):\n",
    "    randfor = RandomForestClassifier(criterion = 'gini' ,\n",
    "                                     n_estimators = 100, \n",
    "                                     max_depth = None, \n",
    "                                     max_features = 1,\n",
    "                                     min_samples_leaf = 1,\n",
    "                                     min_samples_split = 2, \n",
    "                                     class_weight = {1: 5, 0: 1}, \n",
    "                                     random_state = 13)\n",
    "    randfor = randfor.fit(X_train, y_train)\n",
    "    random_pred = randfor.predict(X_test)\n",
    "    score = f1_score(y_test, random_pred)\n",
    "    print(\"The F1 score for this model is {}\".format(score))\n",
    "    print (\"\\nClassification report Random Forest Classifier:\\n\",(classification_report(y_test, random_pred)))\n",
    "    \n",
    "    return(random_pred)"
   ]
  },
  {
   "cell_type": "code",
   "execution_count": 209,
   "metadata": {},
   "outputs": [
    {
     "name": "stdout",
     "output_type": "stream",
     "text": [
      "The F1 score for this model is 0.26086956521739135\n",
      "\n",
      "Classification report Random Forest Classifier:\n",
      "               precision    recall  f1-score   support\n",
      "\n",
      "           0       0.98      0.99      0.99      3305\n",
      "           1       0.38      0.20      0.26        75\n",
      "\n",
      "    accuracy                           0.97      3380\n",
      "   macro avg       0.68      0.60      0.62      3380\n",
      "weighted avg       0.97      0.97      0.97      3380\n",
      "\n"
     ]
    },
    {
     "data": {
      "image/png": "[encoded data removed]",
      "text/plain": [
       "<Figure size 576x432 with 2 Axes>"
      ]
     },
     "metadata": {
      "needs_background": "light"
     },
     "output_type": "display_data"
    }
   ],
   "source": [
    "# Plot the confusion matrix with random forest based on the best parameters chosen from grid search \n",
    "plot_confusion_matrix(\n",
    "    y_test,\n",
    "    pred = randomforestbest(X_ov_tr, y_ov_tr, X_test, y_test),\n",
    "    classes = ['Non Habitable', 'Habitable'], # put your list here\n",
    "    normalize=False,\n",
    "    title='Confusion matrix',\n",
    "    cmap=plt.cm.YlOrRd\n",
    ")"
   ]
  },
  {
   "cell_type": "markdown",
   "metadata": {},
   "source": [
    "> Xgboost"
   ]
  },
  {
   "cell_type": "code",
   "execution_count": 197,
   "metadata": {},
   "outputs": [],
   "source": [
    "# Grid Search parameters for Xgboost choosing, nthread, learning rate, max_depth, reg_alpha, \n",
    "# reg_lambda, subsample, n_estimators, booster, max_delt_step, and weight averages.  \n",
    "xgb_params = { 'nthread': [3, 4, 5],\n",
    "              'learning_rate': [0.023, 0.025, 0.028],\n",
    "              'max_depth': [8, 9, 10],\n",
    "              'reg_alpha': [1.09, 1.1, 1.11],\n",
    "              'reg_lambda': [1.19, 1.2, 1.25],\n",
    "              'subsample': [0.83, 0.84, 0.85],\n",
    "              'n_estimators': [850, 900, 950],\n",
    "              'booster': ['dart'],\n",
    "              'max_delta_step': [0.1, 0.2, 0.3],\n",
    "              'scale_pos_weight': [8, 9, 10]\n",
    "}"
   ]
  },
  {
   "cell_type": "code",
   "execution_count": 198,
   "metadata": {},
   "outputs": [],
   "source": [
    "# XGB classifier for grid search \n",
    "xgb = XGBClassifier()"
   ]
  },
  {
   "cell_type": "code",
   "execution_count": 199,
   "metadata": {},
   "outputs": [],
   "source": [
    "# Perform a grid search on xgboost using all processors and 3 fold cross validation. \n",
    "xgb_grd_search = GridSearchCV(estimator = xgb, param_grid = xgb_params, cv = 3, n_jobs = -1, verbose =2)"
   ]
  },
  {
   "cell_type": "code",
   "execution_count": 200,
   "metadata": {},
   "outputs": [
    {
     "name": "stdout",
     "output_type": "stream",
     "text": [
      "Fitting 3 folds for each of 19683 candidates, totalling 59049 fits\n"
     ]
    },
    {
     "name": "stderr",
     "output_type": "stream",
     "text": [
      "[Parallel(n_jobs=-1)]: Using backend LokyBackend with 12 concurrent workers.\n",
      "[Parallel(n_jobs=-1)]: Done  17 tasks      | elapsed:   25.2s\n",
      "[Parallel(n_jobs=-1)]: Done 138 tasks      | elapsed:  2.9min\n",
      "[Parallel(n_jobs=-1)]: Done 341 tasks      | elapsed:  7.0min\n",
      "[Parallel(n_jobs=-1)]: Done 624 tasks      | elapsed: 13.4min\n",
      "[Parallel(n_jobs=-1)]: Done 989 tasks      | elapsed: 20.5min\n",
      "[Parallel(n_jobs=-1)]: Done 1434 tasks      | elapsed: 29.7min\n",
      "[Parallel(n_jobs=-1)]: Done 1961 tasks      | elapsed: 40.7min\n",
      "[Parallel(n_jobs=-1)]: Done 2568 tasks      | elapsed: 52.4min\n",
      "[Parallel(n_jobs=-1)]: Done 3257 tasks      | elapsed: 68.2min\n",
      "[Parallel(n_jobs=-1)]: Done 4026 tasks      | elapsed: 85.2min\n",
      "[Parallel(n_jobs=-1)]: Done 4877 tasks      | elapsed: 101.5min\n",
      "[Parallel(n_jobs=-1)]: Done 5808 tasks      | elapsed: 119.4min\n",
      "[Parallel(n_jobs=-1)]: Done 6821 tasks      | elapsed: 149.2min\n",
      "[Parallel(n_jobs=-1)]: Done 7914 tasks      | elapsed: 177.7min\n",
      "[Parallel(n_jobs=-1)]: Done 9089 tasks      | elapsed: 204.7min\n",
      "[Parallel(n_jobs=-1)]: Done 10344 tasks      | elapsed: 231.9min\n",
      "[Parallel(n_jobs=-1)]: Done 11681 tasks      | elapsed: 261.1min\n",
      "[Parallel(n_jobs=-1)]: Done 13098 tasks      | elapsed: 293.2min\n",
      "[Parallel(n_jobs=-1)]: Done 14597 tasks      | elapsed: 328.1min\n",
      "[Parallel(n_jobs=-1)]: Done 16176 tasks      | elapsed: 366.4min\n",
      "[Parallel(n_jobs=-1)]: Done 17837 tasks      | elapsed: 408.4min\n",
      "[Parallel(n_jobs=-1)]: Done 19578 tasks      | elapsed: 454.9min\n",
      "[Parallel(n_jobs=-1)]: Done 21401 tasks      | elapsed: 496.6min\n",
      "[Parallel(n_jobs=-1)]: Done 23304 tasks      | elapsed: 541.2min\n",
      "[Parallel(n_jobs=-1)]: Done 25289 tasks      | elapsed: 587.8min\n",
      "[Parallel(n_jobs=-1)]: Done 27354 tasks      | elapsed: 637.1min\n",
      "[Parallel(n_jobs=-1)]: Done 29501 tasks      | elapsed: 693.9min\n",
      "[Parallel(n_jobs=-1)]: Done 31728 tasks      | elapsed: 750.5min\n",
      "[Parallel(n_jobs=-1)]: Done 34037 tasks      | elapsed: 816.0min\n",
      "[Parallel(n_jobs=-1)]: Done 36426 tasks      | elapsed: 887.0min\n",
      "[Parallel(n_jobs=-1)]: Done 38897 tasks      | elapsed: 960.7min\n",
      "[Parallel(n_jobs=-1)]: Done 41448 tasks      | elapsed: 1023.6min\n",
      "[Parallel(n_jobs=-1)]: Done 44081 tasks      | elapsed: 1082.2min\n",
      "[Parallel(n_jobs=-1)]: Done 46794 tasks      | elapsed: 1155.4min\n",
      "[Parallel(n_jobs=-1)]: Done 49589 tasks      | elapsed: 1235.7min\n",
      "[Parallel(n_jobs=-1)]: Done 52464 tasks      | elapsed: 1317.6min\n",
      "[Parallel(n_jobs=-1)]: Done 55421 tasks      | elapsed: 1406.1min\n",
      "[Parallel(n_jobs=-1)]: Done 58458 tasks      | elapsed: 1497.0min\n",
      "[Parallel(n_jobs=-1)]: Done 59049 out of 59049 | elapsed: 1517.5min finished\n"
     ]
    },
    {
     "name": "stdout",
     "output_type": "stream",
     "text": [
      "[15:27:36] WARNING: /Users/travis/build/dmlc/xgboost/src/learner.cc:1061: Starting in XGBoost 1.3.0, the default evaluation metric used with the objective 'binary:logistic' was changed from 'error' to 'logloss'. Explicitly set eval_metric if you'd like to restore the old behavior.\n"
     ]
    },
    {
     "data": {
      "text/plain": [
       "GridSearchCV(cv=3,\n",
       "             estimator=XGBClassifier(base_score=None, booster=None,\n",
       "                                     colsample_bylevel=None,\n",
       "                                     colsample_bynode=None,\n",
       "                                     colsample_bytree=None, gamma=None,\n",
       "                                     gpu_id=None, importance_type='gain',\n",
       "                                     interaction_constraints=None,\n",
       "                                     learning_rate=None, max_delta_step=None,\n",
       "                                     max_depth=None, min_child_weight=None,\n",
       "                                     missing=nan, monotone_constraints=None,\n",
       "                                     n_estimators=100, n_jobs...\n",
       "                                     tree_method=None, validate_parameters=None,\n",
       "                                     verbosity=None),\n",
       "             n_jobs=-1,\n",
       "             param_grid={'booster': ['dart'],\n",
       "                         'learning_rate': [0.023, 0.025, 0.028],\n",
       "                         'max_delta_step': [0.1, 0.2, 0.3],\n",
       "                         'max_depth': [8, 9, 10],\n",
       "                         'n_estimators': [850, 900, 950], 'nthread': [3, 4, 5],\n",
       "                         'reg_alpha': [1.09, 1.1, 1.11],\n",
       "                         'reg_lambda': [1.19, 1.2, 1.25],\n",
       "                         'scale_pos_weight': [8, 9, 10],\n",
       "                         'subsample': [0.83, 0.84, 0.85]},\n",
       "             verbose=2)"
      ]
     },
     "execution_count": 200,
     "metadata": {},
     "output_type": "execute_result"
    }
   ],
   "source": [
    "# Grid Search performed on oversampled dataframe \n",
    "xgb_grd_search.fit(X_ov_tr, y_ov_tr)"
   ]
  },
  {
   "cell_type": "code",
   "execution_count": 202,
   "metadata": {},
   "outputs": [
    {
     "data": {
      "text/plain": [
       "{'booster': 'dart',\n",
       " 'learning_rate': 0.028,\n",
       " 'max_delta_step': 0.3,\n",
       " 'max_depth': 8,\n",
       " 'n_estimators': 900,\n",
       " 'nthread': 3,\n",
       " 'reg_alpha': 1.09,\n",
       " 'reg_lambda': 1.19,\n",
       " 'scale_pos_weight': 8,\n",
       " 'subsample': 0.83}"
      ]
     },
     "execution_count": 202,
     "metadata": {},
     "output_type": "execute_result"
    }
   ],
   "source": [
    "# Produce best parameters \n",
    "xgb_grd_search.best_params_"
   ]
  },
  {
   "cell_type": "code",
   "execution_count": 207,
   "metadata": {},
   "outputs": [],
   "source": [
    "# Created function for xgboost best with the best parameters from grid search \n",
    "def xgboostbest(X_train, y_train, X_test, y_test):\n",
    "    xgb = XGBClassifier(\n",
    "                        learning_rate = 0.028,\n",
    "                         booster = 'dart',\n",
    "                        n_estimators = 900,\n",
    "                        max_delta_step = 0.35,\n",
    "                        max_depth = 8, \n",
    "                        nthread = 6, \n",
    "                        objective ='binary:logistic', \n",
    "                        reg_alpha = 1.11, \n",
    "                        reg_lambda = 1.19, \n",
    "                        subsample = 0.83, \n",
    "                        scale_pos_weight = 5\n",
    "                    )\n",
    "    xgb.fit(X_train, y_train)\n",
    "    xgb_preds = xgb.predict(X_test)\n",
    "    score = f1_score(y_test, xgb_preds)\n",
    "    print(\"The F1 score for this model is {}\".format(score))\n",
    "    print (\"\\nClassification report Random Forest Classifier:\\n\",(classification_report(y_test, xgb_preds)))\n",
    "    return(xgb_preds)"
   ]
  },
  {
   "cell_type": "code",
   "execution_count": 208,
   "metadata": {},
   "outputs": [
    {
     "name": "stdout",
     "output_type": "stream",
     "text": [
      "[16:00:37] WARNING: /Users/travis/build/dmlc/xgboost/src/learner.cc:1061: Starting in XGBoost 1.3.0, the default evaluation metric used with the objective 'binary:logistic' was changed from 'error' to 'logloss'. Explicitly set eval_metric if you'd like to restore the old behavior.\n",
      "The F1 score for this model is 0.48044692737430167\n",
      "\n",
      "Classification report Random Forest Classifier:\n",
      "               precision    recall  f1-score   support\n",
      "\n",
      "           0       0.99      0.98      0.99      3305\n",
      "           1       0.41      0.57      0.48        75\n",
      "\n",
      "    accuracy                           0.97      3380\n",
      "   macro avg       0.70      0.78      0.73      3380\n",
      "weighted avg       0.98      0.97      0.97      3380\n",
      "\n"
     ]
    },
    {
     "data": {
      "image/png": "[encoded data removed]",
      "text/plain": [
       "<Figure size 576x432 with 2 Axes>"
      ]
     },
     "metadata": {
      "needs_background": "light"
     },
     "output_type": "display_data"
    }
   ],
   "source": [
    "# Plotted the confusion matrix of xgboost using the best parameters given from grid search \n",
    "# Best model is xgboost \n",
    "plot_confusion_matrix(\n",
    "    y_test,\n",
    "    pred = xgboostbest(X_ov_tr, y_ov_tr, X_test, y_test),\n",
    "    classes = ['Non Habitable', 'Habitable'], # put your list here\n",
    "    normalize=False,\n",
    "    title='Confusion matrix',\n",
    "    cmap=plt.cm.YlOrRd\n",
    ")"
   ]
  },
  {
   "cell_type": "markdown",
   "metadata": {},
   "source": [
    "> Light GBM"
   ]
  },
  {
   "cell_type": "code",
   "execution_count": 210,
   "metadata": {},
   "outputs": [],
   "source": [
    "# Created grid search parameters for light GBM model with n_estimators, boosting type, \n",
    "# sample by tree, max depth, number of leaves, min split gain, reg_alpha, reg_lambda, subsample \n",
    "# subsample frequency and class weights\n",
    "lgbm_params = {'n_estimators': [240, 250, 255],\n",
    "               'boosting': ['gbdt', 'dart'],\n",
    "                'colsample_bytree': [0.69, 0.7, 0.71],\n",
    "                'max_depth': [13, 15, 17],\n",
    "                'num_leaves': [15, 20, 25, 30],\n",
    "                'min_split_gain': [0.42, 0.4, 0.43],\n",
    "                'reg_alpha': [1.0, 1.1],\n",
    "                'reg_lambda': [1.45, 1.5],\n",
    "                'subsample': [0.7, 0.75],\n",
    "                'subsample_freq': [20],\n",
    "                'class_weight': [{1: 28, 0: 1}, {1: 30, 0: 1}, {1: 32, 0: 1}] \n",
    "}"
   ]
  },
  {
   "cell_type": "code",
   "execution_count": 211,
   "metadata": {},
   "outputs": [],
   "source": [
    "# Created lgbm classifier for grid search \n",
    "lgbm = lgb.LGBMClassifier()"
   ]
  },
  {
   "cell_type": "code",
   "execution_count": 212,
   "metadata": {},
   "outputs": [],
   "source": [
    "# perform grid search on light GBM with all processors running and cross validation of 3 folds \n",
    "lgbm_grd_search = GridSearchCV(estimator = lgbm, param_grid = lgbm_params, cv = 3, n_jobs = -1, verbose =2)"
   ]
  },
  {
   "cell_type": "code",
   "execution_count": 213,
   "metadata": {},
   "outputs": [
    {
     "name": "stdout",
     "output_type": "stream",
     "text": [
      "Fitting 3 folds for each of 15552 candidates, totalling 46656 fits\n"
     ]
    },
    {
     "name": "stderr",
     "output_type": "stream",
     "text": [
      "[Parallel(n_jobs=-1)]: Using backend LokyBackend with 12 concurrent workers.\n",
      "[Parallel(n_jobs=-1)]: Done  17 tasks      | elapsed:    3.8s\n",
      "[Parallel(n_jobs=-1)]: Done 288 tasks      | elapsed:    5.3s\n",
      "[Parallel(n_jobs=-1)]: Done 1100 tasks      | elapsed:    9.0s\n",
      "[Parallel(n_jobs=-1)]: Done 2232 tasks      | elapsed:   15.6s\n",
      "[Parallel(n_jobs=-1)]: Done 3692 tasks      | elapsed:   24.1s\n",
      "[Parallel(n_jobs=-1)]: Done 5472 tasks      | elapsed:   34.9s\n",
      "[Parallel(n_jobs=-1)]: Done 7580 tasks      | elapsed:   47.5s\n",
      "[Parallel(n_jobs=-1)]: Done 10008 tasks      | elapsed:  1.1min\n",
      "[Parallel(n_jobs=-1)]: Done 12764 tasks      | elapsed:  1.4min\n",
      "[Parallel(n_jobs=-1)]: Done 15840 tasks      | elapsed:  1.8min\n",
      "[Parallel(n_jobs=-1)]: Done 19244 tasks      | elapsed:  2.2min\n",
      "[Parallel(n_jobs=-1)]: Done 22968 tasks      | elapsed:  2.6min\n",
      "[Parallel(n_jobs=-1)]: Done 25277 tasks      | elapsed:  3.2min\n",
      "[Parallel(n_jobs=-1)]: Done 26370 tasks      | elapsed:  3.6min\n",
      "[Parallel(n_jobs=-1)]: Done 27545 tasks      | elapsed:  3.9min\n",
      "[Parallel(n_jobs=-1)]: Done 28800 tasks      | elapsed:  4.3min\n",
      "[Parallel(n_jobs=-1)]: Done 30137 tasks      | elapsed:  4.7min\n",
      "[Parallel(n_jobs=-1)]: Done 31554 tasks      | elapsed:  5.1min\n",
      "[Parallel(n_jobs=-1)]: Done 33053 tasks      | elapsed:  5.6min\n",
      "[Parallel(n_jobs=-1)]: Done 34632 tasks      | elapsed:  6.2min\n",
      "[Parallel(n_jobs=-1)]: Done 36293 tasks      | elapsed:  6.7min\n",
      "[Parallel(n_jobs=-1)]: Done 38034 tasks      | elapsed:  7.2min\n",
      "[Parallel(n_jobs=-1)]: Done 39857 tasks      | elapsed:  7.8min\n",
      "[Parallel(n_jobs=-1)]: Done 41760 tasks      | elapsed:  8.4min\n",
      "[Parallel(n_jobs=-1)]: Done 43745 tasks      | elapsed:  9.0min\n",
      "[Parallel(n_jobs=-1)]: Done 45810 tasks      | elapsed:  9.7min\n",
      "[Parallel(n_jobs=-1)]: Done 46656 out of 46656 | elapsed:  9.9min finished\n"
     ]
    },
    {
     "name": "stdout",
     "output_type": "stream",
     "text": [
      "[LightGBM] [Warning] boosting is set=gbdt, boosting_type=gbdt will be ignored. Current value: boosting=gbdt\n"
     ]
    },
    {
     "data": {
      "text/plain": [
       "GridSearchCV(cv=3, estimator=LGBMClassifier(), n_jobs=-1,\n",
       "             param_grid={'boosting': ['gbdt', 'dart'],\n",
       "                         'class_weight': [{0: 1, 1: 28}, {0: 1, 1: 30},\n",
       "                                          {0: 1, 1: 32}],\n",
       "                         'colsample_bytree': [0.69, 0.7, 0.71],\n",
       "                         'max_depth': [13, 15, 17],\n",
       "                         'min_split_gain': [0.42, 0.4, 0.43],\n",
       "                         'n_estimators': [240, 250, 255],\n",
       "                         'num_leaves': [15, 20, 25, 30],\n",
       "                         'reg_alpha': [1.0, 1.1], 'reg_lambda': [1.45, 1.5],\n",
       "                         'subsample': [0.7, 0.75], 'subsample_freq': [20]},\n",
       "             verbose=2)"
      ]
     },
     "execution_count": 213,
     "metadata": {},
     "output_type": "execute_result"
    }
   ],
   "source": [
    "# Perform grid search on Light GBM \n",
    "lgbm_grd_search.fit(X_train, y_train)"
   ]
  },
  {
   "cell_type": "code",
   "execution_count": null,
   "metadata": {},
   "outputs": [],
   "source": [
    "# Shows me the best parameters for Light GBM \n",
    "lgbm_grd_search.best_params_"
   ]
  },
  {
   "cell_type": "code",
   "execution_count": 70,
   "metadata": {},
   "outputs": [],
   "source": [
    "#New function based on grid search for light GBM \n",
    "def lightgbest(X_train, y_train, X_test, y_test):\n",
    "    lgbm = lgb.LGBMClassifier(colsample_bytree = 0.69,\n",
    "                             boosting_type='gbdt', \n",
    "                             num_leaves = 15, \n",
    "                             min_split_gain = 0.4,\n",
    "                             max_depth = 13,\n",
    "                             n_estimators = 240, \n",
    "                             reg_alpha = 1.1,\n",
    "                             reg_lambda = 1.5,\n",
    "                             class_weight = {1: 30, 0: 1}, \n",
    "                             subsample = 0.7,\n",
    "                             subsample_freq= 20)\n",
    "    lgbm = lgbm.fit(X_train, y_train)\n",
    "    lgb_pred = lgbm.predict(X_test)\n",
    "    score = f1_score(y_test, lgb_pred)\n",
    "    print(\"The F1 score for this model is {}\".format(score))\n",
    "    print (\"\\nClassification report Random Forest Classifier:\\n\",(classification_report(y_test, lgb_pred)))\n",
    "    return(lgb_pred)"
   ]
  },
  {
   "cell_type": "code",
   "execution_count": 137,
   "metadata": {},
   "outputs": [
    {
     "name": "stdout",
     "output_type": "stream",
     "text": [
      "The F1 score for this model is 0.4150943396226415\n",
      "\n",
      "Classification report Random Forest Classifier:\n",
      "               precision    recall  f1-score   support\n",
      "\n",
      "           0       1.00      0.95      0.97      3305\n",
      "           1       0.27      0.88      0.42        75\n",
      "\n",
      "    accuracy                           0.94      3380\n",
      "   macro avg       0.63      0.91      0.69      3380\n",
      "weighted avg       0.98      0.94      0.96      3380\n",
      "\n"
     ]
    },
    {
     "data": {
      "image/png": "[encoded data removed]",
      "text/plain": [
       "<Figure size 576x432 with 2 Axes>"
      ]
     },
     "metadata": {
      "needs_background": "light"
     },
     "output_type": "display_data"
    }
   ],
   "source": [
    "# Plot confusion matrix on light GBM model based on gridsearch \n",
    "plot_confusion_matrix(\n",
    "    y_test,\n",
    "    pred = lightgbest(X_ov_tr, y_ov_tr, X_test, y_test),\n",
    "    classes = ['Non Habitable', 'Habitable'], # put your list here\n",
    "    normalize=False,\n",
    "    title='Confusion matrix',\n",
    "    cmap=plt.cm.YlOrRd\n",
    ")"
   ]
  },
  {
   "cell_type": "markdown",
   "metadata": {},
   "source": [
    "> SVM"
   ]
  },
  {
   "cell_type": "code",
   "execution_count": 139,
   "metadata": {},
   "outputs": [],
   "source": [
    "# Created grid search parameters for SVM using kernel types, gamma, C, and class weights \n",
    "svc_params = { 'kernel': ['rbf', 'sigmoid', 'poly'],\n",
    "              'gamma': [1, .1, 0.01, 1e-3, 1e-4],\n",
    "              'C': [0.001, 0.0001, 0.01, 0.1, 1],\n",
    "              'class_weight': [{1: 5, 0: 1}, {1: 8, 0: 1}, {1: 10, 0: 1}, {1: 12, 0: 1}] \n",
    "                }"
   ]
  },
  {
   "cell_type": "code",
   "execution_count": 140,
   "metadata": {},
   "outputs": [],
   "source": [
    "# Created SVC model \n",
    "svm = SVC()"
   ]
  },
  {
   "cell_type": "code",
   "execution_count": 141,
   "metadata": {},
   "outputs": [],
   "source": [
    "# Performed Grid Search on SVC with all processors and cross validation of 3 fold\n",
    "svm_grd_search = GridSearchCV(estimator = svm, param_grid = svc_params, cv = 3, n_jobs = -1, verbose =2)"
   ]
  },
  {
   "cell_type": "code",
   "execution_count": 142,
   "metadata": {},
   "outputs": [
    {
     "name": "stdout",
     "output_type": "stream",
     "text": [
      "Fitting 3 folds for each of 200 candidates, totalling 600 fits\n"
     ]
    },
    {
     "name": "stderr",
     "output_type": "stream",
     "text": [
      "[Parallel(n_jobs=-1)]: Using backend LokyBackend with 12 concurrent workers.\n",
      "[Parallel(n_jobs=-1)]: Done  17 tasks      | elapsed:    3.0s\n",
      "[Parallel(n_jobs=-1)]: Done 360 tasks      | elapsed:    3.9s\n",
      "[Parallel(n_jobs=-1)]: Done 600 out of 600 | elapsed:    4.4s finished\n"
     ]
    },
    {
     "data": {
      "text/plain": [
       "GridSearchCV(cv=3, estimator=SVC(), n_jobs=-1,\n",
       "             param_grid={'C': [0.001, 0.0001, 0.01, 0.1, 1],\n",
       "                         'class_weight': [{0: 1, 1: 5}, {0: 1, 1: 8},\n",
       "                                          {0: 1, 1: 10}, {0: 1, 1: 12}],\n",
       "                         'gamma': [1, 0.1, 0.01, 0.001, 0.0001],\n",
       "                         'kernel': ['sigmoid', 'poly']},\n",
       "             verbose=2)"
      ]
     },
     "execution_count": 142,
     "metadata": {},
     "output_type": "execute_result"
    }
   ],
   "source": [
    "# Performed Grid Search on SVM with overfit dataframe \n",
    "svm_grd_search.fit(X_ov_tr, y_ov_tr)"
   ]
  },
  {
   "cell_type": "code",
   "execution_count": 143,
   "metadata": {},
   "outputs": [
    {
     "data": {
      "text/plain": [
       "{'C': 0.001, 'class_weight': {1: 5, 0: 1}, 'gamma': 1, 'kernel': 'sigmoid'}"
      ]
     },
     "execution_count": 143,
     "metadata": {},
     "output_type": "execute_result"
    }
   ],
   "source": [
    "# Shows the best parameters from Grid Search based SVC model \n",
    "svm_grd_search.best_params_"
   ]
  },
  {
   "cell_type": "code",
   "execution_count": 135,
   "metadata": {},
   "outputs": [],
   "source": [
    "# Created SVC best function that picks the best features from grif search to perform on the SVM model \n",
    "def svcbest(X_train, y_train, X_test, y_test):\n",
    "    svc_mod = SVC(kernel = 'sigmoid',\n",
    "                  gamma = 1,\n",
    "                  C = 0.001,\n",
    "                  class_weight = {1: 5, 0: 1})\n",
    "    svc_mod = svc_mod.fit(X_train, y_train)\n",
    "    svc_pred = svc_mod.predict(X_test)\n",
    "    score = f1_score(y_test, svc_pred)\n",
    "    print(\"The F1 score for this model is {}\".format(score))\n",
    "    print (\"\\nClassification report Random Forest Classifier:\\n\",(classification_report(y_test, svc_pred)))\n",
    "    return(svc_pred)\n",
    "    "
   ]
  },
  {
   "cell_type": "code",
   "execution_count": 136,
   "metadata": {},
   "outputs": [
    {
     "name": "stdout",
     "output_type": "stream",
     "text": [
      "The F1 score for this model is 0.04341534008683068\n",
      "\n",
      "Classification report Random Forest Classifier:\n",
      "               precision    recall  f1-score   support\n",
      "\n",
      "           0       0.00      0.00      0.00      3305\n",
      "           1       0.02      1.00      0.04        75\n",
      "\n",
      "    accuracy                           0.02      3380\n",
      "   macro avg       0.01      0.50      0.02      3380\n",
      "weighted avg       0.00      0.02      0.00      3380\n",
      "\n"
     ]
    },
    {
     "data": {
      "image/png": "[encoded data removed]",
      "text/plain": [
       "<Figure size 576x432 with 2 Axes>"
      ]
     },
     "metadata": {
      "needs_background": "light"
     },
     "output_type": "display_data"
    }
   ],
   "source": [
    "# Plot confision matric on the SVC model based on grid search \n",
    "# Worst performing model\n",
    "plot_confusion_matrix(\n",
    "    y_test,\n",
    "    pred = svcbest(X_ov_tr, y_ov_tr, X_test, y_test),\n",
    "    classes = ['Non Habitable', 'Habitable'], # put your list here\n",
    "    normalize=False,\n",
    "    title='Confusion matrix',\n",
    "    cmap=plt.cm.YlOrRd\n",
    ")"
   ]
  }
 ],
 "metadata": {
  "kernelspec": {
   "display_name": "Python 3",
   "language": "python",
   "name": "python3"
  },
  "language_info": {
   "codemirror_mode": {
    "name": "ipython",
    "version": 3
   },
   "file_extension": ".py",
   "mimetype": "text/x-python",
   "name": "python",
   "nbconvert_exporter": "python",
   "pygments_lexer": "ipython3",
   "version": "3.8.5"
  }
 },
 "nbformat": 4,
 "nbformat_minor": 4
}
